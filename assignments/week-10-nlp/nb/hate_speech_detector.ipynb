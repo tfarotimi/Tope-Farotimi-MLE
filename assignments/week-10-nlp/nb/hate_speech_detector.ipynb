{
  "cells": [
    {
      "cell_type": "markdown",
      "metadata": {
        "id": "uvQ6ov4HzBKX"
      },
      "source": [
        "<p align = \"center\" draggable=”false” ><img src=\"https://user-images.githubusercontent.com/37101144/161836199-fdb0219d-0361-4988-bf26-48b0fad160a3.png\" \n",
        "     width=\"200px\"\n",
        "     height=\"auto\"/>\n",
        "</p>"
      ]
    },
    {
      "cell_type": "markdown",
      "metadata": {
        "id": "9V9ctujXqHSO"
      },
      "source": [
        "# Hate Speech Detector"
      ]
    },
    {
      "cell_type": "markdown",
      "metadata": {
        "id": "hIZSzVH_qHSO"
      },
      "source": [
        "Today you are a machine learning engineer, a member of the Birdwatch at Twitter. \n",
        "\n",
        "The objective of this task is to detect hate speech in tweets. For the sake of simplicity, a tweet contains hate speech if it has a racist or sexist sentiment associated with it. In other words, we need to classify racist or sexist tweets from other tweets.\n",
        "\n",
        "A labelled dataset of 31,962 tweets (late 2017 to early 2018) is provided in the form of a compressed csv file with each line storing a tweet id, its label, and the tweet. Label '1' denotes the tweet is racist/sexist while label '0' denotes the tweet is not racist/sexist.\n",
        "\n",
        "We will first approach the problem in a traditional approach: clean the raw text using simple regex (regular expression), extract features, build a naive Bayes models to classify tweets; then we build a deep learning model and explain our deep learning model with LIME."
      ]
    },
    {
      "cell_type": "markdown",
      "metadata": {
        "id": "KUnzuOszqHSP"
      },
      "source": [
        "## 📚 Learning Objectives"
      ]
    },
    {
      "cell_type": "markdown",
      "metadata": {
        "id": "w8Z3BzFrqHSP"
      },
      "source": [
        "By the end of this lesson, you will be able to:\n",
        "\n",
        "- Understand the basic concepts in natural language processing (NLP)\n",
        "- Perform basic NLP tasks on text, e.g., tweets\n",
        "- Build a naive Bayes classifier to detect hate speech \n",
        "- Build a bidirectional long short-term memory (BiLSTM) to detect hate speech\n",
        "- Visualize embeddings with Tensorboard embedding projector\n",
        "- Explain models with LIME"
      ]
    },
    {
      "cell_type": "markdown",
      "metadata": {
        "id": "9KdYEyU4zNGU"
      },
      "source": [
        "# Task I: Data Preprocessing\n"
      ]
    },
    {
      "cell_type": "markdown",
      "metadata": {
        "id": "ESJru9iiqHSQ"
      },
      "source": [
        "1. Install dependencies.\n",
        "\n",
        "    Most modules are pre-installed in Colab, however, we need to update `gensim` to its recent version and install `lime`."
      ]
    },
    {
      "cell_type": "code",
      "execution_count": 99,
      "metadata": {
        "id": "pzQ5eaRK6-GB",
        "scrolled": true
      },
      "outputs": [],
      "source": [
        "!pip install -U -q gensim==4.2.0 lime"
      ]
    },
    {
      "cell_type": "markdown",
      "metadata": {
        "id": "yfT65m3lyxZ_"
      },
      "source": [
        "2. Connect Colab to your local Google Drive."
      ]
    },
    {
      "cell_type": "code",
      "execution_count": 100,
      "metadata": {
        "id": "FOuYW07fyzbP",
        "colab": {
          "base_uri": "https://localhost:8080/"
        },
        "outputId": "772bcf0b-7bcf-4a92-e410-1cb999267610"
      },
      "outputs": [
        {
          "output_type": "stream",
          "name": "stdout",
          "text": [
            "Drive already mounted at /content/drive; to attempt to forcibly remount, call drive.mount(\"/content/drive\", force_remount=True).\n"
          ]
        }
      ],
      "source": [
        "from google.colab import drive\n",
        "drive.mount('/content/drive')"
      ]
    },
    {
      "cell_type": "markdown",
      "metadata": {
        "id": "Ws9_nx44qHSZ"
      },
      "source": [
        "3. Use `pandas.read_csv` to load the tweets in `tweets.csv.gz` and save the `pd.DataFrame` into `raw`. Make sure the path points to where the data is located in your Google Drive. "
      ]
    },
    {
      "cell_type": "code",
      "execution_count": 101,
      "metadata": {
        "id": "pOc7kHGny04E"
      },
      "outputs": [],
      "source": [
        "# YOUR CODE HERE\n",
        "import pandas as pd\n",
        "raw = pd.read_csv('drive/MyDrive/Colab Notebooks/tweets.csv.gz')"
      ]
    },
    {
      "cell_type": "code",
      "execution_count": 102,
      "metadata": {
        "id": "y85-t5JzzihL",
        "colab": {
          "base_uri": "https://localhost:8080/"
        },
        "outputId": "3928a571-0d48-4ae8-bff2-028bea907813"
      },
      "outputs": [
        {
          "output_type": "stream",
          "name": "stdout",
          "text": [
            "<class 'pandas.core.frame.DataFrame'>\n",
            "RangeIndex: 31962 entries, 0 to 31961\n",
            "Data columns (total 3 columns):\n",
            " #   Column  Non-Null Count  Dtype \n",
            "---  ------  --------------  ----- \n",
            " 0   id      31962 non-null  int64 \n",
            " 1   label   31962 non-null  int64 \n",
            " 2   tweet   31962 non-null  object\n",
            "dtypes: int64(2), object(1)\n",
            "memory usage: 749.2+ KB\n",
            "None\n"
          ]
        }
      ],
      "source": [
        "print(raw.info())"
      ]
    },
    {
      "cell_type": "markdown",
      "metadata": {
        "id": "WvsKB7cmqHSa"
      },
      "source": [
        "4. Sample 5 random tweets from the dataset for each label and display `label` and `tweet` columns. \n",
        "Hint: one option is to use `sample()` followed by `groupby`. "
      ]
    },
    {
      "cell_type": "code",
      "execution_count": 103,
      "metadata": {
        "id": "6C7suQv4z7xE",
        "scrolled": true,
        "colab": {
          "base_uri": "https://localhost:8080/",
          "height": 130
        },
        "outputId": "0c940f28-13f0-4110-9178-7ac7c450487c"
      },
      "outputs": [
        {
          "output_type": "execute_result",
          "data": {
            "text/html": [
              "<div>\n",
              "<style scoped>\n",
              "    .dataframe tbody tr th:only-of-type {\n",
              "        vertical-align: middle;\n",
              "    }\n",
              "\n",
              "    .dataframe tbody tr th {\n",
              "        vertical-align: top;\n",
              "    }\n",
              "\n",
              "    .dataframe thead th {\n",
              "        text-align: right;\n",
              "    }\n",
              "</style>\n",
              "<table border=\"1\" class=\"dataframe\">\n",
              "  <thead>\n",
              "    <tr style=\"text-align: right;\">\n",
              "      <th></th>\n",
              "      <th>id</th>\n",
              "      <th>label</th>\n",
              "      <th>tweet</th>\n",
              "    </tr>\n",
              "  </thead>\n",
              "  <tbody>\n",
              "    <tr>\n",
              "      <th>9290</th>\n",
              "      <td>9291</td>\n",
              "      <td>0</td>\n",
              "      <td>idk what its like to feel loved. #depressed   ...</td>\n",
              "    </tr>\n",
              "    <tr>\n",
              "      <th>27577</th>\n",
              "      <td>27578</td>\n",
              "      <td>1</td>\n",
              "      <td>@user you might be a libtard if... #libtard  #...</td>\n",
              "    </tr>\n",
              "  </tbody>\n",
              "</table>\n",
              "</div>"
            ],
            "application/vnd.google.colaboratory.module+javascript": "\n      import \"https://ssl.gstatic.com/colaboratory/data_table/99dac6621f6ae8c4/data_table.js\";\n\n      window.createDataTable({\n        data: [[{\n            'v': 9290,\n            'f': \"9290\",\n        },\n{\n            'v': 9291,\n            'f': \"9291\",\n        },\n{\n            'v': 0,\n            'f': \"0\",\n        },\n\"idk what its like to feel loved. #depressed   #tbh\"],\n [{\n            'v': 27577,\n            'f': \"27577\",\n        },\n{\n            'v': 27578,\n            'f': \"27578\",\n        },\n{\n            'v': 1,\n            'f': \"1\",\n        },\n\"@user you might be a libtard if... #libtard  #sjw #liberal #politics \"]],\n        columns: [[\"number\", \"index\"], [\"number\", \"id\"], [\"number\", \"label\"], [\"string\", \"tweet\"]],\n        columnOptions: [{\"width\": \"1px\", \"className\": \"index_column\"}],\n        rowsPerPage: 5,\n        helpUrl: \"https://colab.research.google.com/notebooks/data_table.ipynb\",\n        suppressOutputScrolling: true,\n        minimumWidth: undefined,\n      });\n    ",
            "text/plain": [
              "<google.colab.data_table.DataTable object>"
            ]
          },
          "metadata": {},
          "execution_count": 103
        }
      ],
      "source": [
        "# Colab includes an extension that renders pandas dataframes into interactive displays that can be filtered, sorted, and explored dynamically.\n",
        "from google.colab import data_table\n",
        "data_table.enable_dataframe_formatter() \n",
        "\n",
        "# YOUR CODE HERE\n",
        "sample = raw.groupby('label').sample()\n",
        "\n",
        "data_table.DataTable(sample, include_index=True, num_rows_per_page=5)\n"
      ]
    },
    {
      "cell_type": "markdown",
      "metadata": {
        "id": "xTX1dJ79qHSb"
      },
      "source": [
        "5. The tweets are in English and all words should be already in lowercase. \n",
        "Now calculate the number of characters in each tweet and assign the values to a new column `len_tweet` in `raw`. "
      ]
    },
    {
      "cell_type": "code",
      "execution_count": 104,
      "metadata": {
        "id": "1ZpPnJ7hzoUY",
        "colab": {
          "base_uri": "https://localhost:8080/"
        },
        "outputId": "4f089063-71e9-44f7-d2a5-d9d06983e004"
      },
      "outputs": [
        {
          "output_type": "execute_result",
          "data": {
            "text/plain": [
              "0    102\n",
              "1    122\n",
              "2     21\n",
              "3     86\n",
              "4     39\n",
              "Name: len_tweet, dtype: int64"
            ]
          },
          "metadata": {},
          "execution_count": 104
        }
      ],
      "source": [
        "# YOUR CODE HERE\n",
        "\n",
        "raw['len_tweet'] = raw['tweet'].apply(lambda x: len(x))\n",
        "raw['len_tweet'].head()"
      ]
    },
    {
      "cell_type": "markdown",
      "metadata": {
        "id": "Cs6Xn-YtqHSc"
      },
      "source": [
        "6. What are the summary statistics of `len_tweet` for each label? \n",
        "Hint: use `groupby` and `describe`. "
      ]
    },
    {
      "cell_type": "code",
      "execution_count": 105,
      "metadata": {
        "id": "ClwQM1Zezwq6",
        "colab": {
          "base_uri": "https://localhost:8080/",
          "height": 130
        },
        "outputId": "06247f4f-caee-4a1d-f53f-6114068ba3f4"
      },
      "outputs": [
        {
          "output_type": "execute_result",
          "data": {
            "text/plain": [
              "         count  mean   std   min   25%   50%    75%    max\n",
              "label                                                     \n",
              "0      29720.0  84.3  29.6  11.0  62.0  88.0  107.0  274.0\n",
              "1       2242.0  90.2  27.4  12.0  69.0  96.0  111.0  152.0"
            ],
            "text/html": [
              "\n",
              "  <div id=\"df-b96cb052-0040-4a4e-b1c2-2538775c895b\">\n",
              "    <div class=\"colab-df-container\">\n",
              "      <div>\n",
              "<style scoped>\n",
              "    .dataframe tbody tr th:only-of-type {\n",
              "        vertical-align: middle;\n",
              "    }\n",
              "\n",
              "    .dataframe tbody tr th {\n",
              "        vertical-align: top;\n",
              "    }\n",
              "\n",
              "    .dataframe thead th {\n",
              "        text-align: right;\n",
              "    }\n",
              "</style>\n",
              "<table border=\"1\" class=\"dataframe\">\n",
              "  <thead>\n",
              "    <tr style=\"text-align: right;\">\n",
              "      <th></th>\n",
              "      <th>count</th>\n",
              "      <th>mean</th>\n",
              "      <th>std</th>\n",
              "      <th>min</th>\n",
              "      <th>25%</th>\n",
              "      <th>50%</th>\n",
              "      <th>75%</th>\n",
              "      <th>max</th>\n",
              "    </tr>\n",
              "    <tr>\n",
              "      <th>label</th>\n",
              "      <th></th>\n",
              "      <th></th>\n",
              "      <th></th>\n",
              "      <th></th>\n",
              "      <th></th>\n",
              "      <th></th>\n",
              "      <th></th>\n",
              "      <th></th>\n",
              "    </tr>\n",
              "  </thead>\n",
              "  <tbody>\n",
              "    <tr>\n",
              "      <th>0</th>\n",
              "      <td>29720.0</td>\n",
              "      <td>84.3</td>\n",
              "      <td>29.6</td>\n",
              "      <td>11.0</td>\n",
              "      <td>62.0</td>\n",
              "      <td>88.0</td>\n",
              "      <td>107.0</td>\n",
              "      <td>274.0</td>\n",
              "    </tr>\n",
              "    <tr>\n",
              "      <th>1</th>\n",
              "      <td>2242.0</td>\n",
              "      <td>90.2</td>\n",
              "      <td>27.4</td>\n",
              "      <td>12.0</td>\n",
              "      <td>69.0</td>\n",
              "      <td>96.0</td>\n",
              "      <td>111.0</td>\n",
              "      <td>152.0</td>\n",
              "    </tr>\n",
              "  </tbody>\n",
              "</table>\n",
              "</div>\n",
              "      <button class=\"colab-df-convert\" onclick=\"convertToInteractive('df-b96cb052-0040-4a4e-b1c2-2538775c895b')\"\n",
              "              title=\"Convert this dataframe to an interactive table.\"\n",
              "              style=\"display:none;\">\n",
              "        \n",
              "  <svg xmlns=\"http://www.w3.org/2000/svg\" height=\"24px\"viewBox=\"0 0 24 24\"\n",
              "       width=\"24px\">\n",
              "    <path d=\"M0 0h24v24H0V0z\" fill=\"none\"/>\n",
              "    <path d=\"M18.56 5.44l.94 2.06.94-2.06 2.06-.94-2.06-.94-.94-2.06-.94 2.06-2.06.94zm-11 1L8.5 8.5l.94-2.06 2.06-.94-2.06-.94L8.5 2.5l-.94 2.06-2.06.94zm10 10l.94 2.06.94-2.06 2.06-.94-2.06-.94-.94-2.06-.94 2.06-2.06.94z\"/><path d=\"M17.41 7.96l-1.37-1.37c-.4-.4-.92-.59-1.43-.59-.52 0-1.04.2-1.43.59L10.3 9.45l-7.72 7.72c-.78.78-.78 2.05 0 2.83L4 21.41c.39.39.9.59 1.41.59.51 0 1.02-.2 1.41-.59l7.78-7.78 2.81-2.81c.8-.78.8-2.07 0-2.86zM5.41 20L4 18.59l7.72-7.72 1.47 1.35L5.41 20z\"/>\n",
              "  </svg>\n",
              "      </button>\n",
              "      \n",
              "  <style>\n",
              "    .colab-df-container {\n",
              "      display:flex;\n",
              "      flex-wrap:wrap;\n",
              "      gap: 12px;\n",
              "    }\n",
              "\n",
              "    .colab-df-convert {\n",
              "      background-color: #E8F0FE;\n",
              "      border: none;\n",
              "      border-radius: 50%;\n",
              "      cursor: pointer;\n",
              "      display: none;\n",
              "      fill: #1967D2;\n",
              "      height: 32px;\n",
              "      padding: 0 0 0 0;\n",
              "      width: 32px;\n",
              "    }\n",
              "\n",
              "    .colab-df-convert:hover {\n",
              "      background-color: #E2EBFA;\n",
              "      box-shadow: 0px 1px 2px rgba(60, 64, 67, 0.3), 0px 1px 3px 1px rgba(60, 64, 67, 0.15);\n",
              "      fill: #174EA6;\n",
              "    }\n",
              "\n",
              "    [theme=dark] .colab-df-convert {\n",
              "      background-color: #3B4455;\n",
              "      fill: #D2E3FC;\n",
              "    }\n",
              "\n",
              "    [theme=dark] .colab-df-convert:hover {\n",
              "      background-color: #434B5C;\n",
              "      box-shadow: 0px 1px 3px 1px rgba(0, 0, 0, 0.15);\n",
              "      filter: drop-shadow(0px 1px 2px rgba(0, 0, 0, 0.3));\n",
              "      fill: #FFFFFF;\n",
              "    }\n",
              "  </style>\n",
              "\n",
              "      <script>\n",
              "        const buttonEl =\n",
              "          document.querySelector('#df-b96cb052-0040-4a4e-b1c2-2538775c895b button.colab-df-convert');\n",
              "        buttonEl.style.display =\n",
              "          google.colab.kernel.accessAllowed ? 'block' : 'none';\n",
              "\n",
              "        async function convertToInteractive(key) {\n",
              "          const element = document.querySelector('#df-b96cb052-0040-4a4e-b1c2-2538775c895b');\n",
              "          const dataTable =\n",
              "            await google.colab.kernel.invokeFunction('convertToInteractive',\n",
              "                                                     [key], {});\n",
              "          if (!dataTable) return;\n",
              "\n",
              "          const docLinkHtml = 'Like what you see? Visit the ' +\n",
              "            '<a target=\"_blank\" href=https://colab.research.google.com/notebooks/data_table.ipynb>data table notebook</a>'\n",
              "            + ' to learn more about interactive tables.';\n",
              "          element.innerHTML = '';\n",
              "          dataTable['output_type'] = 'display_data';\n",
              "          await google.colab.output.renderOutput(dataTable, element);\n",
              "          const docLink = document.createElement('div');\n",
              "          docLink.innerHTML = docLinkHtml;\n",
              "          element.appendChild(docLink);\n",
              "        }\n",
              "      </script>\n",
              "    </div>\n",
              "  </div>\n",
              "  "
            ],
            "application/vnd.google.colaboratory.module+javascript": "\n      import \"https://ssl.gstatic.com/colaboratory/data_table/99dac6621f6ae8c4/data_table.js\";\n\n      window.createDataTable({\n        data: [[{\n            'v': 0,\n            'f': \"0\",\n        },\n{\n            'v': 29720.0,\n            'f': \"29720.0\",\n        },\n{\n            'v': 84.32863391655451,\n            'f': \"84.32863391655451\",\n        },\n{\n            'v': 29.566483817431827,\n            'f': \"29.566483817431827\",\n        },\n{\n            'v': 11.0,\n            'f': \"11.0\",\n        },\n{\n            'v': 62.0,\n            'f': \"62.0\",\n        },\n{\n            'v': 88.0,\n            'f': \"88.0\",\n        },\n{\n            'v': 107.0,\n            'f': \"107.0\",\n        },\n{\n            'v': 274.0,\n            'f': \"274.0\",\n        }],\n [{\n            'v': 1,\n            'f': \"1\",\n        },\n{\n            'v': 2242.0,\n            'f': \"2242.0\",\n        },\n{\n            'v': 90.18777876895629,\n            'f': \"90.18777876895629\",\n        },\n{\n            'v': 27.375501683643677,\n            'f': \"27.375501683643677\",\n        },\n{\n            'v': 12.0,\n            'f': \"12.0\",\n        },\n{\n            'v': 69.0,\n            'f': \"69.0\",\n        },\n{\n            'v': 96.0,\n            'f': \"96.0\",\n        },\n{\n            'v': 111.0,\n            'f': \"111.0\",\n        },\n{\n            'v': 152.0,\n            'f': \"152.0\",\n        }]],\n        columns: [[\"number\", \"label\"], [\"number\", \"count\"], [\"number\", \"mean\"], [\"number\", \"std\"], [\"number\", \"min\"], [\"number\", \"25%\"], [\"number\", \"50%\"], [\"number\", \"75%\"], [\"number\", \"max\"]],\n        columnOptions: [{\"width\": \"1px\", \"className\": \"index_column\"}],\n        rowsPerPage: 25,\n        helpUrl: \"https://colab.research.google.com/notebooks/data_table.ipynb\",\n        suppressOutputScrolling: true,\n        minimumWidth: undefined,\n      });\n    "
          },
          "metadata": {},
          "execution_count": 105
        }
      ],
      "source": [
        "pd.set_option(\"display.precision\", 1)\n",
        "\n",
        "# YOUR CODE HERE\n",
        "raw.groupby('label').describe()['len_tweet']"
      ]
    },
    {
      "cell_type": "code",
      "source": [
        "import regex as re\n",
        "text = \"@dog says stop #hashtagging me!\"\n",
        "clean = re.sub(r'@\\w+', '', str(text))\n",
        "print(clean)\n",
        "\n"
      ],
      "metadata": {
        "id": "8qZpttzKh_-k",
        "colab": {
          "base_uri": "https://localhost:8080/"
        },
        "outputId": "9bb9e41e-da11-4b73-c445-d4e982526642"
      },
      "execution_count": 106,
      "outputs": [
        {
          "output_type": "stream",
          "name": "stdout",
          "text": [
            " says stop #hashtagging me!\n"
          ]
        }
      ]
    },
    {
      "cell_type": "markdown",
      "metadata": {
        "id": "PJpa1yzaqHSc"
      },
      "source": [
        "Note we have an imbalanced dataset: the ratio of non-hate speech to hate speech is roughly 13:1. "
      ]
    },
    {
      "cell_type": "markdown",
      "metadata": {
        "id": "e-1PGVKaqHSc"
      },
      "source": [
        "7. Clean the tweets. \n",
        "\n",
        "    We use `re` to perform basic text manipulations. \n",
        "    Specically, remove anonymized user handle, remove numbers and special characters except hashtags."
      ]
    },
    {
      "cell_type": "code",
      "execution_count": 107,
      "metadata": {
        "id": "sZ5dN1CEz1Y4"
      },
      "outputs": [],
      "source": [
        "import re\n",
        "\n",
        "def cleanTweet(tweet):\n",
        "  # remove anonymized user handles\n",
        "  clean = re.sub(r'@\\w+', '', str(tweet))\n",
        "\n",
        "  # remove numbers and special characters except hashtags\n",
        "  clean = re.sub(r'[^\\w\\s#]', '', str(clean))\n",
        "  return clean\n",
        "\n",
        "\n"
      ]
    },
    {
      "cell_type": "markdown",
      "metadata": {
        "id": "l_5sDDyHqHSd"
      },
      "source": [
        "8. Remove user handles from the text in `tweet`, or anything directly following the symbols `@`, and save the resulting tweets to a new column `tidy_tweet` in `raw`. \n",
        "    \n",
        "    Hint: you can use `re.sub` on individual text and [`apply`](https://pandas.pydata.org/docs/reference/api/pandas.DataFrame.apply.html) a simple lambda function for the series `raw['tweet']`."
      ]
    },
    {
      "cell_type": "code",
      "execution_count": 108,
      "metadata": {
        "id": "F5fQIuPm0h9A",
        "colab": {
          "base_uri": "https://localhost:8080/",
          "height": 259
        },
        "outputId": "80947496-19bb-4bd7-9ead-307da5f7db60"
      },
      "outputs": [
        {
          "output_type": "execute_result",
          "data": {
            "text/plain": [
              "          id  label                                              tweet  \\\n",
              "790      791      1  @user and you keep telling that only aryans ar...   \n",
              "21928  21929      0                           @user what makes you  ?    \n",
              "25642  25643      0   â #nzd/usd extends rbnz-led rally, hits fre...   \n",
              "20436  20437      0  i'm on a mission to ride all of the animals!  ...   \n",
              "22552  22553      0  the color of a human skin matters a lot to the...   \n",
              "\n",
              "       len_tweet                                         tidy_tweet  \n",
              "790          109   and you keep telling that only aryans are all...  \n",
              "21928         25                                  what makes you     \n",
              "25642        101   â #nzdusd extends rbnzled rally hits fresh 1y...  \n",
              "20436         91  im on a mission to ride all of the animals   #...  \n",
              "22552         88  the color of a human skin matters a lot to the...  "
            ],
            "text/html": [
              "\n",
              "  <div id=\"df-55e34dcb-8339-4962-bc73-121865ffee20\">\n",
              "    <div class=\"colab-df-container\">\n",
              "      <div>\n",
              "<style scoped>\n",
              "    .dataframe tbody tr th:only-of-type {\n",
              "        vertical-align: middle;\n",
              "    }\n",
              "\n",
              "    .dataframe tbody tr th {\n",
              "        vertical-align: top;\n",
              "    }\n",
              "\n",
              "    .dataframe thead th {\n",
              "        text-align: right;\n",
              "    }\n",
              "</style>\n",
              "<table border=\"1\" class=\"dataframe\">\n",
              "  <thead>\n",
              "    <tr style=\"text-align: right;\">\n",
              "      <th></th>\n",
              "      <th>id</th>\n",
              "      <th>label</th>\n",
              "      <th>tweet</th>\n",
              "      <th>len_tweet</th>\n",
              "      <th>tidy_tweet</th>\n",
              "    </tr>\n",
              "  </thead>\n",
              "  <tbody>\n",
              "    <tr>\n",
              "      <th>790</th>\n",
              "      <td>791</td>\n",
              "      <td>1</td>\n",
              "      <td>@user and you keep telling that only aryans ar...</td>\n",
              "      <td>109</td>\n",
              "      <td>and you keep telling that only aryans are all...</td>\n",
              "    </tr>\n",
              "    <tr>\n",
              "      <th>21928</th>\n",
              "      <td>21929</td>\n",
              "      <td>0</td>\n",
              "      <td>@user what makes you  ?</td>\n",
              "      <td>25</td>\n",
              "      <td>what makes you</td>\n",
              "    </tr>\n",
              "    <tr>\n",
              "      <th>25642</th>\n",
              "      <td>25643</td>\n",
              "      <td>0</td>\n",
              "      <td>â #nzd/usd extends rbnz-led rally, hits fre...</td>\n",
              "      <td>101</td>\n",
              "      <td>â #nzdusd extends rbnzled rally hits fresh 1y...</td>\n",
              "    </tr>\n",
              "    <tr>\n",
              "      <th>20436</th>\n",
              "      <td>20437</td>\n",
              "      <td>0</td>\n",
              "      <td>i'm on a mission to ride all of the animals!  ...</td>\n",
              "      <td>91</td>\n",
              "      <td>im on a mission to ride all of the animals   #...</td>\n",
              "    </tr>\n",
              "    <tr>\n",
              "      <th>22552</th>\n",
              "      <td>22553</td>\n",
              "      <td>0</td>\n",
              "      <td>the color of a human skin matters a lot to the...</td>\n",
              "      <td>88</td>\n",
              "      <td>the color of a human skin matters a lot to the...</td>\n",
              "    </tr>\n",
              "  </tbody>\n",
              "</table>\n",
              "</div>\n",
              "      <button class=\"colab-df-convert\" onclick=\"convertToInteractive('df-55e34dcb-8339-4962-bc73-121865ffee20')\"\n",
              "              title=\"Convert this dataframe to an interactive table.\"\n",
              "              style=\"display:none;\">\n",
              "        \n",
              "  <svg xmlns=\"http://www.w3.org/2000/svg\" height=\"24px\"viewBox=\"0 0 24 24\"\n",
              "       width=\"24px\">\n",
              "    <path d=\"M0 0h24v24H0V0z\" fill=\"none\"/>\n",
              "    <path d=\"M18.56 5.44l.94 2.06.94-2.06 2.06-.94-2.06-.94-.94-2.06-.94 2.06-2.06.94zm-11 1L8.5 8.5l.94-2.06 2.06-.94-2.06-.94L8.5 2.5l-.94 2.06-2.06.94zm10 10l.94 2.06.94-2.06 2.06-.94-2.06-.94-.94-2.06-.94 2.06-2.06.94z\"/><path d=\"M17.41 7.96l-1.37-1.37c-.4-.4-.92-.59-1.43-.59-.52 0-1.04.2-1.43.59L10.3 9.45l-7.72 7.72c-.78.78-.78 2.05 0 2.83L4 21.41c.39.39.9.59 1.41.59.51 0 1.02-.2 1.41-.59l7.78-7.78 2.81-2.81c.8-.78.8-2.07 0-2.86zM5.41 20L4 18.59l7.72-7.72 1.47 1.35L5.41 20z\"/>\n",
              "  </svg>\n",
              "      </button>\n",
              "      \n",
              "  <style>\n",
              "    .colab-df-container {\n",
              "      display:flex;\n",
              "      flex-wrap:wrap;\n",
              "      gap: 12px;\n",
              "    }\n",
              "\n",
              "    .colab-df-convert {\n",
              "      background-color: #E8F0FE;\n",
              "      border: none;\n",
              "      border-radius: 50%;\n",
              "      cursor: pointer;\n",
              "      display: none;\n",
              "      fill: #1967D2;\n",
              "      height: 32px;\n",
              "      padding: 0 0 0 0;\n",
              "      width: 32px;\n",
              "    }\n",
              "\n",
              "    .colab-df-convert:hover {\n",
              "      background-color: #E2EBFA;\n",
              "      box-shadow: 0px 1px 2px rgba(60, 64, 67, 0.3), 0px 1px 3px 1px rgba(60, 64, 67, 0.15);\n",
              "      fill: #174EA6;\n",
              "    }\n",
              "\n",
              "    [theme=dark] .colab-df-convert {\n",
              "      background-color: #3B4455;\n",
              "      fill: #D2E3FC;\n",
              "    }\n",
              "\n",
              "    [theme=dark] .colab-df-convert:hover {\n",
              "      background-color: #434B5C;\n",
              "      box-shadow: 0px 1px 3px 1px rgba(0, 0, 0, 0.15);\n",
              "      filter: drop-shadow(0px 1px 2px rgba(0, 0, 0, 0.3));\n",
              "      fill: #FFFFFF;\n",
              "    }\n",
              "  </style>\n",
              "\n",
              "      <script>\n",
              "        const buttonEl =\n",
              "          document.querySelector('#df-55e34dcb-8339-4962-bc73-121865ffee20 button.colab-df-convert');\n",
              "        buttonEl.style.display =\n",
              "          google.colab.kernel.accessAllowed ? 'block' : 'none';\n",
              "\n",
              "        async function convertToInteractive(key) {\n",
              "          const element = document.querySelector('#df-55e34dcb-8339-4962-bc73-121865ffee20');\n",
              "          const dataTable =\n",
              "            await google.colab.kernel.invokeFunction('convertToInteractive',\n",
              "                                                     [key], {});\n",
              "          if (!dataTable) return;\n",
              "\n",
              "          const docLinkHtml = 'Like what you see? Visit the ' +\n",
              "            '<a target=\"_blank\" href=https://colab.research.google.com/notebooks/data_table.ipynb>data table notebook</a>'\n",
              "            + ' to learn more about interactive tables.';\n",
              "          element.innerHTML = '';\n",
              "          dataTable['output_type'] = 'display_data';\n",
              "          await google.colab.output.renderOutput(dataTable, element);\n",
              "          const docLink = document.createElement('div');\n",
              "          docLink.innerHTML = docLinkHtml;\n",
              "          element.appendChild(docLink);\n",
              "        }\n",
              "      </script>\n",
              "    </div>\n",
              "  </div>\n",
              "  "
            ],
            "application/vnd.google.colaboratory.module+javascript": "\n      import \"https://ssl.gstatic.com/colaboratory/data_table/99dac6621f6ae8c4/data_table.js\";\n\n      window.createDataTable({\n        data: [[{\n            'v': 790,\n            'f': \"790\",\n        },\n{\n            'v': 791,\n            'f': \"791\",\n        },\n{\n            'v': 1,\n            'f': \"1\",\n        },\n\"@user and you keep telling that only aryans are allowed to rape women! you're just a  troll! #eod @user @user\",\n{\n            'v': 109,\n            'f': \"109\",\n        },\n\" and you keep telling that only aryans are allowed to rape women youre just a  troll #eod  \"],\n [{\n            'v': 21928,\n            'f': \"21928\",\n        },\n{\n            'v': 21929,\n            'f': \"21929\",\n        },\n{\n            'v': 0,\n            'f': \"0\",\n        },\n\" @user what makes you  ? \",\n{\n            'v': 25,\n            'f': \"25\",\n        },\n\"  what makes you   \"],\n [{\n            'v': 25642,\n            'f': \"25642\",\n        },\n{\n            'v': 25643,\n            'f': \"25643\",\n        },\n{\n            'v': 0,\n            'f': \"0\",\n        },\n\" \\u00e2\\u0086\\u009d #nzd/usd extends rbnz-led rally, hits fresh 1-year high near 0.7150   #blog #silver #gold #forex\",\n{\n            'v': 101,\n            'f': \"101\",\n        },\n\" \\u00e2 #nzdusd extends rbnzled rally hits fresh 1year high near 07150   #blog #silver #gold #forex\"],\n [{\n            'v': 20436,\n            'f': \"20436\",\n        },\n{\n            'v': 20437,\n            'f': \"20437\",\n        },\n{\n            'v': 0,\n            'f': \"0\",\n        },\n\"i'm on a mission to ride all of the animals!   #teamchanlv #vegas #lasvegas #funtimes  \\u00e2\\u0080\\u00a6 \",\n{\n            'v': 91,\n            'f': \"91\",\n        },\n\"im on a mission to ride all of the animals   #teamchanlv #vegas #lasvegas #funtimes  \\u00e2 \"],\n [{\n            'v': 22552,\n            'f': \"22552\",\n        },\n{\n            'v': 22553,\n            'f': \"22553\",\n        },\n{\n            'v': 0,\n            'f': \"0\",\n        },\n\"the color of a human skin matters a lot to the system when it comes to judgement call.  \",\n{\n            'v': 88,\n            'f': \"88\",\n        },\n\"the color of a human skin matters a lot to the system when it comes to judgement call  \"]],\n        columns: [[\"number\", \"index\"], [\"number\", \"id\"], [\"number\", \"label\"], [\"string\", \"tweet\"], [\"number\", \"len_tweet\"], [\"string\", \"tidy_tweet\"]],\n        columnOptions: [{\"width\": \"1px\", \"className\": \"index_column\"}],\n        rowsPerPage: 25,\n        helpUrl: \"https://colab.research.google.com/notebooks/data_table.ipynb\",\n        suppressOutputScrolling: true,\n        minimumWidth: undefined,\n      });\n    "
          },
          "metadata": {},
          "execution_count": 108
        }
      ],
      "source": [
        "raw['tidy_tweet'] = raw['tweet'].apply(cleanTweet)\n",
        "# YOUR CODE HERE\n",
        "raw.sample(5, random_state=203)"
      ]
    },
    {
      "cell_type": "markdown",
      "metadata": {
        "id": "45_NFIzUqHSd"
      },
      "source": [
        "9. Remove non-alphabetic characters yet keep symbols `#` from `tidy_tweet` and save the result in `tidy_tweet`. \n",
        "In other words, keep all 26 letters and `#`.\n",
        "\n",
        "    Note: in some applications, punctuations, emojis, or whether the word is in all caps can be of use. \n",
        "    You shall decide whether to extract such features for the application and perform error analysis to gain insight. "
      ]
    },
    {
      "cell_type": "code",
      "execution_count": 109,
      "metadata": {
        "id": "OiPc6R6q0rtH",
        "colab": {
          "base_uri": "https://localhost:8080/",
          "height": 259
        },
        "outputId": "8bbc9964-9c61-4321-e6d5-392917f510f1"
      },
      "outputs": [
        {
          "output_type": "execute_result",
          "data": {
            "text/plain": [
              "          id  label                                              tweet  \\\n",
              "790      791      1  @user and you keep telling that only aryans ar...   \n",
              "21928  21929      0                           @user what makes you  ?    \n",
              "25642  25643      0   â #nzd/usd extends rbnz-led rally, hits fre...   \n",
              "20436  20437      0  i'm on a mission to ride all of the animals!  ...   \n",
              "22552  22553      0  the color of a human skin matters a lot to the...   \n",
              "\n",
              "       len_tweet                                         tidy_tweet  \n",
              "790          109   and you keep telling that only aryans are all...  \n",
              "21928         25                                  what makes you     \n",
              "25642        101   â #nzdusd extends rbnzled rally hits fresh 1y...  \n",
              "20436         91  im on a mission to ride all of the animals   #...  \n",
              "22552         88  the color of a human skin matters a lot to the...  "
            ],
            "text/html": [
              "\n",
              "  <div id=\"df-dd3c22d4-929a-43f3-ae4a-272e35e9ecd8\">\n",
              "    <div class=\"colab-df-container\">\n",
              "      <div>\n",
              "<style scoped>\n",
              "    .dataframe tbody tr th:only-of-type {\n",
              "        vertical-align: middle;\n",
              "    }\n",
              "\n",
              "    .dataframe tbody tr th {\n",
              "        vertical-align: top;\n",
              "    }\n",
              "\n",
              "    .dataframe thead th {\n",
              "        text-align: right;\n",
              "    }\n",
              "</style>\n",
              "<table border=\"1\" class=\"dataframe\">\n",
              "  <thead>\n",
              "    <tr style=\"text-align: right;\">\n",
              "      <th></th>\n",
              "      <th>id</th>\n",
              "      <th>label</th>\n",
              "      <th>tweet</th>\n",
              "      <th>len_tweet</th>\n",
              "      <th>tidy_tweet</th>\n",
              "    </tr>\n",
              "  </thead>\n",
              "  <tbody>\n",
              "    <tr>\n",
              "      <th>790</th>\n",
              "      <td>791</td>\n",
              "      <td>1</td>\n",
              "      <td>@user and you keep telling that only aryans ar...</td>\n",
              "      <td>109</td>\n",
              "      <td>and you keep telling that only aryans are all...</td>\n",
              "    </tr>\n",
              "    <tr>\n",
              "      <th>21928</th>\n",
              "      <td>21929</td>\n",
              "      <td>0</td>\n",
              "      <td>@user what makes you  ?</td>\n",
              "      <td>25</td>\n",
              "      <td>what makes you</td>\n",
              "    </tr>\n",
              "    <tr>\n",
              "      <th>25642</th>\n",
              "      <td>25643</td>\n",
              "      <td>0</td>\n",
              "      <td>â #nzd/usd extends rbnz-led rally, hits fre...</td>\n",
              "      <td>101</td>\n",
              "      <td>â #nzdusd extends rbnzled rally hits fresh 1y...</td>\n",
              "    </tr>\n",
              "    <tr>\n",
              "      <th>20436</th>\n",
              "      <td>20437</td>\n",
              "      <td>0</td>\n",
              "      <td>i'm on a mission to ride all of the animals!  ...</td>\n",
              "      <td>91</td>\n",
              "      <td>im on a mission to ride all of the animals   #...</td>\n",
              "    </tr>\n",
              "    <tr>\n",
              "      <th>22552</th>\n",
              "      <td>22553</td>\n",
              "      <td>0</td>\n",
              "      <td>the color of a human skin matters a lot to the...</td>\n",
              "      <td>88</td>\n",
              "      <td>the color of a human skin matters a lot to the...</td>\n",
              "    </tr>\n",
              "  </tbody>\n",
              "</table>\n",
              "</div>\n",
              "      <button class=\"colab-df-convert\" onclick=\"convertToInteractive('df-dd3c22d4-929a-43f3-ae4a-272e35e9ecd8')\"\n",
              "              title=\"Convert this dataframe to an interactive table.\"\n",
              "              style=\"display:none;\">\n",
              "        \n",
              "  <svg xmlns=\"http://www.w3.org/2000/svg\" height=\"24px\"viewBox=\"0 0 24 24\"\n",
              "       width=\"24px\">\n",
              "    <path d=\"M0 0h24v24H0V0z\" fill=\"none\"/>\n",
              "    <path d=\"M18.56 5.44l.94 2.06.94-2.06 2.06-.94-2.06-.94-.94-2.06-.94 2.06-2.06.94zm-11 1L8.5 8.5l.94-2.06 2.06-.94-2.06-.94L8.5 2.5l-.94 2.06-2.06.94zm10 10l.94 2.06.94-2.06 2.06-.94-2.06-.94-.94-2.06-.94 2.06-2.06.94z\"/><path d=\"M17.41 7.96l-1.37-1.37c-.4-.4-.92-.59-1.43-.59-.52 0-1.04.2-1.43.59L10.3 9.45l-7.72 7.72c-.78.78-.78 2.05 0 2.83L4 21.41c.39.39.9.59 1.41.59.51 0 1.02-.2 1.41-.59l7.78-7.78 2.81-2.81c.8-.78.8-2.07 0-2.86zM5.41 20L4 18.59l7.72-7.72 1.47 1.35L5.41 20z\"/>\n",
              "  </svg>\n",
              "      </button>\n",
              "      \n",
              "  <style>\n",
              "    .colab-df-container {\n",
              "      display:flex;\n",
              "      flex-wrap:wrap;\n",
              "      gap: 12px;\n",
              "    }\n",
              "\n",
              "    .colab-df-convert {\n",
              "      background-color: #E8F0FE;\n",
              "      border: none;\n",
              "      border-radius: 50%;\n",
              "      cursor: pointer;\n",
              "      display: none;\n",
              "      fill: #1967D2;\n",
              "      height: 32px;\n",
              "      padding: 0 0 0 0;\n",
              "      width: 32px;\n",
              "    }\n",
              "\n",
              "    .colab-df-convert:hover {\n",
              "      background-color: #E2EBFA;\n",
              "      box-shadow: 0px 1px 2px rgba(60, 64, 67, 0.3), 0px 1px 3px 1px rgba(60, 64, 67, 0.15);\n",
              "      fill: #174EA6;\n",
              "    }\n",
              "\n",
              "    [theme=dark] .colab-df-convert {\n",
              "      background-color: #3B4455;\n",
              "      fill: #D2E3FC;\n",
              "    }\n",
              "\n",
              "    [theme=dark] .colab-df-convert:hover {\n",
              "      background-color: #434B5C;\n",
              "      box-shadow: 0px 1px 3px 1px rgba(0, 0, 0, 0.15);\n",
              "      filter: drop-shadow(0px 1px 2px rgba(0, 0, 0, 0.3));\n",
              "      fill: #FFFFFF;\n",
              "    }\n",
              "  </style>\n",
              "\n",
              "      <script>\n",
              "        const buttonEl =\n",
              "          document.querySelector('#df-dd3c22d4-929a-43f3-ae4a-272e35e9ecd8 button.colab-df-convert');\n",
              "        buttonEl.style.display =\n",
              "          google.colab.kernel.accessAllowed ? 'block' : 'none';\n",
              "\n",
              "        async function convertToInteractive(key) {\n",
              "          const element = document.querySelector('#df-dd3c22d4-929a-43f3-ae4a-272e35e9ecd8');\n",
              "          const dataTable =\n",
              "            await google.colab.kernel.invokeFunction('convertToInteractive',\n",
              "                                                     [key], {});\n",
              "          if (!dataTable) return;\n",
              "\n",
              "          const docLinkHtml = 'Like what you see? Visit the ' +\n",
              "            '<a target=\"_blank\" href=https://colab.research.google.com/notebooks/data_table.ipynb>data table notebook</a>'\n",
              "            + ' to learn more about interactive tables.';\n",
              "          element.innerHTML = '';\n",
              "          dataTable['output_type'] = 'display_data';\n",
              "          await google.colab.output.renderOutput(dataTable, element);\n",
              "          const docLink = document.createElement('div');\n",
              "          docLink.innerHTML = docLinkHtml;\n",
              "          element.appendChild(docLink);\n",
              "        }\n",
              "      </script>\n",
              "    </div>\n",
              "  </div>\n",
              "  "
            ],
            "application/vnd.google.colaboratory.module+javascript": "\n      import \"https://ssl.gstatic.com/colaboratory/data_table/99dac6621f6ae8c4/data_table.js\";\n\n      window.createDataTable({\n        data: [[{\n            'v': 790,\n            'f': \"790\",\n        },\n{\n            'v': 791,\n            'f': \"791\",\n        },\n{\n            'v': 1,\n            'f': \"1\",\n        },\n\"@user and you keep telling that only aryans are allowed to rape women! you're just a  troll! #eod @user @user\",\n{\n            'v': 109,\n            'f': \"109\",\n        },\n\" and you keep telling that only aryans are allowed to rape women youre just a  troll #eod  \"],\n [{\n            'v': 21928,\n            'f': \"21928\",\n        },\n{\n            'v': 21929,\n            'f': \"21929\",\n        },\n{\n            'v': 0,\n            'f': \"0\",\n        },\n\" @user what makes you  ? \",\n{\n            'v': 25,\n            'f': \"25\",\n        },\n\"  what makes you   \"],\n [{\n            'v': 25642,\n            'f': \"25642\",\n        },\n{\n            'v': 25643,\n            'f': \"25643\",\n        },\n{\n            'v': 0,\n            'f': \"0\",\n        },\n\" \\u00e2\\u0086\\u009d #nzd/usd extends rbnz-led rally, hits fresh 1-year high near 0.7150   #blog #silver #gold #forex\",\n{\n            'v': 101,\n            'f': \"101\",\n        },\n\" \\u00e2 #nzdusd extends rbnzled rally hits fresh 1year high near 07150   #blog #silver #gold #forex\"],\n [{\n            'v': 20436,\n            'f': \"20436\",\n        },\n{\n            'v': 20437,\n            'f': \"20437\",\n        },\n{\n            'v': 0,\n            'f': \"0\",\n        },\n\"i'm on a mission to ride all of the animals!   #teamchanlv #vegas #lasvegas #funtimes  \\u00e2\\u0080\\u00a6 \",\n{\n            'v': 91,\n            'f': \"91\",\n        },\n\"im on a mission to ride all of the animals   #teamchanlv #vegas #lasvegas #funtimes  \\u00e2 \"],\n [{\n            'v': 22552,\n            'f': \"22552\",\n        },\n{\n            'v': 22553,\n            'f': \"22553\",\n        },\n{\n            'v': 0,\n            'f': \"0\",\n        },\n\"the color of a human skin matters a lot to the system when it comes to judgement call.  \",\n{\n            'v': 88,\n            'f': \"88\",\n        },\n\"the color of a human skin matters a lot to the system when it comes to judgement call  \"]],\n        columns: [[\"number\", \"index\"], [\"number\", \"id\"], [\"number\", \"label\"], [\"string\", \"tweet\"], [\"number\", \"len_tweet\"], [\"string\", \"tidy_tweet\"]],\n        columnOptions: [{\"width\": \"1px\", \"className\": \"index_column\"}],\n        rowsPerPage: 25,\n        helpUrl: \"https://colab.research.google.com/notebooks/data_table.ipynb\",\n        suppressOutputScrolling: true,\n        minimumWidth: undefined,\n      });\n    "
          },
          "metadata": {},
          "execution_count": 109
        }
      ],
      "source": [
        "#did it all in one step above \n",
        "raw.sample(5, random_state=203)"
      ]
    },
    {
      "cell_type": "markdown",
      "metadata": {
        "id": "UcClbClQIrRV"
      },
      "source": [
        "10. Remove words that is shorter than 4 characters from the processed tweets.\n",
        "\n",
        "    For example, \n",
        "      \n",
        "    `i m on a mission to ride all of the animals #teamchanlv #vegas #lasvegas #funtimes`\n",
        "      \n",
        "    will be reduced to \n",
        "      \n",
        "    `mission ride animals #teamchanlv #vegas #lasvegas #funtimes`\n"
      ]
    },
    {
      "cell_type": "code",
      "execution_count": 110,
      "metadata": {
        "id": "KTx-49cdInP3",
        "colab": {
          "base_uri": "https://localhost:8080/",
          "height": 243
        },
        "outputId": "84b0fed5-a96f-4927-8b70-284be6c7c039"
      },
      "outputs": [
        {
          "output_type": "execute_result",
          "data": {
            "text/plain": [
              "          id  label                                              tweet  \\\n",
              "7736    7737      0   â #lion takes revenge on trophy hunter   #b...   \n",
              "28831  28832      0  \"no happiness here\" by uiotifdh3634    #rainin...   \n",
              "30413  30414      0  mazara seems like a good guy. too bad he's on ...   \n",
              "17260  17261      0  round 3 of the #destiny f****ery let's get the...   \n",
              "29551  29552      0  i like it it's very very   #animation â¥â¥â...   \n",
              "\n",
              "       len_tweet                                         tidy_tweet  \n",
              "7736          70    #lion takes revenge  trophy hunter   #blog #...  \n",
              "28831         58   happiness here  uiotifdh3634    #raining #ani...  \n",
              "30413        137  mazara seems like  good       rangers another ...  \n",
              "17260        117  round    #destiny fery lets   raids going   vi...  \n",
              "29551         55              like   very very   #animation âââââ    "
            ],
            "text/html": [
              "\n",
              "  <div id=\"df-9aa11850-f285-4765-953b-fb617f256106\">\n",
              "    <div class=\"colab-df-container\">\n",
              "      <div>\n",
              "<style scoped>\n",
              "    .dataframe tbody tr th:only-of-type {\n",
              "        vertical-align: middle;\n",
              "    }\n",
              "\n",
              "    .dataframe tbody tr th {\n",
              "        vertical-align: top;\n",
              "    }\n",
              "\n",
              "    .dataframe thead th {\n",
              "        text-align: right;\n",
              "    }\n",
              "</style>\n",
              "<table border=\"1\" class=\"dataframe\">\n",
              "  <thead>\n",
              "    <tr style=\"text-align: right;\">\n",
              "      <th></th>\n",
              "      <th>id</th>\n",
              "      <th>label</th>\n",
              "      <th>tweet</th>\n",
              "      <th>len_tweet</th>\n",
              "      <th>tidy_tweet</th>\n",
              "    </tr>\n",
              "  </thead>\n",
              "  <tbody>\n",
              "    <tr>\n",
              "      <th>7736</th>\n",
              "      <td>7737</td>\n",
              "      <td>0</td>\n",
              "      <td>â #lion takes revenge on trophy hunter   #b...</td>\n",
              "      <td>70</td>\n",
              "      <td>#lion takes revenge  trophy hunter   #blog #...</td>\n",
              "    </tr>\n",
              "    <tr>\n",
              "      <th>28831</th>\n",
              "      <td>28832</td>\n",
              "      <td>0</td>\n",
              "      <td>\"no happiness here\" by uiotifdh3634    #rainin...</td>\n",
              "      <td>58</td>\n",
              "      <td>happiness here  uiotifdh3634    #raining #ani...</td>\n",
              "    </tr>\n",
              "    <tr>\n",
              "      <th>30413</th>\n",
              "      <td>30414</td>\n",
              "      <td>0</td>\n",
              "      <td>mazara seems like a good guy. too bad he's on ...</td>\n",
              "      <td>137</td>\n",
              "      <td>mazara seems like  good       rangers another ...</td>\n",
              "    </tr>\n",
              "    <tr>\n",
              "      <th>17260</th>\n",
              "      <td>17261</td>\n",
              "      <td>0</td>\n",
              "      <td>round 3 of the #destiny f****ery let's get the...</td>\n",
              "      <td>117</td>\n",
              "      <td>round    #destiny fery lets   raids going   vi...</td>\n",
              "    </tr>\n",
              "    <tr>\n",
              "      <th>29551</th>\n",
              "      <td>29552</td>\n",
              "      <td>0</td>\n",
              "      <td>i like it it's very very   #animation â¥â¥â...</td>\n",
              "      <td>55</td>\n",
              "      <td>like   very very   #animation âââââ</td>\n",
              "    </tr>\n",
              "  </tbody>\n",
              "</table>\n",
              "</div>\n",
              "      <button class=\"colab-df-convert\" onclick=\"convertToInteractive('df-9aa11850-f285-4765-953b-fb617f256106')\"\n",
              "              title=\"Convert this dataframe to an interactive table.\"\n",
              "              style=\"display:none;\">\n",
              "        \n",
              "  <svg xmlns=\"http://www.w3.org/2000/svg\" height=\"24px\"viewBox=\"0 0 24 24\"\n",
              "       width=\"24px\">\n",
              "    <path d=\"M0 0h24v24H0V0z\" fill=\"none\"/>\n",
              "    <path d=\"M18.56 5.44l.94 2.06.94-2.06 2.06-.94-2.06-.94-.94-2.06-.94 2.06-2.06.94zm-11 1L8.5 8.5l.94-2.06 2.06-.94-2.06-.94L8.5 2.5l-.94 2.06-2.06.94zm10 10l.94 2.06.94-2.06 2.06-.94-2.06-.94-.94-2.06-.94 2.06-2.06.94z\"/><path d=\"M17.41 7.96l-1.37-1.37c-.4-.4-.92-.59-1.43-.59-.52 0-1.04.2-1.43.59L10.3 9.45l-7.72 7.72c-.78.78-.78 2.05 0 2.83L4 21.41c.39.39.9.59 1.41.59.51 0 1.02-.2 1.41-.59l7.78-7.78 2.81-2.81c.8-.78.8-2.07 0-2.86zM5.41 20L4 18.59l7.72-7.72 1.47 1.35L5.41 20z\"/>\n",
              "  </svg>\n",
              "      </button>\n",
              "      \n",
              "  <style>\n",
              "    .colab-df-container {\n",
              "      display:flex;\n",
              "      flex-wrap:wrap;\n",
              "      gap: 12px;\n",
              "    }\n",
              "\n",
              "    .colab-df-convert {\n",
              "      background-color: #E8F0FE;\n",
              "      border: none;\n",
              "      border-radius: 50%;\n",
              "      cursor: pointer;\n",
              "      display: none;\n",
              "      fill: #1967D2;\n",
              "      height: 32px;\n",
              "      padding: 0 0 0 0;\n",
              "      width: 32px;\n",
              "    }\n",
              "\n",
              "    .colab-df-convert:hover {\n",
              "      background-color: #E2EBFA;\n",
              "      box-shadow: 0px 1px 2px rgba(60, 64, 67, 0.3), 0px 1px 3px 1px rgba(60, 64, 67, 0.15);\n",
              "      fill: #174EA6;\n",
              "    }\n",
              "\n",
              "    [theme=dark] .colab-df-convert {\n",
              "      background-color: #3B4455;\n",
              "      fill: #D2E3FC;\n",
              "    }\n",
              "\n",
              "    [theme=dark] .colab-df-convert:hover {\n",
              "      background-color: #434B5C;\n",
              "      box-shadow: 0px 1px 3px 1px rgba(0, 0, 0, 0.15);\n",
              "      filter: drop-shadow(0px 1px 2px rgba(0, 0, 0, 0.3));\n",
              "      fill: #FFFFFF;\n",
              "    }\n",
              "  </style>\n",
              "\n",
              "      <script>\n",
              "        const buttonEl =\n",
              "          document.querySelector('#df-9aa11850-f285-4765-953b-fb617f256106 button.colab-df-convert');\n",
              "        buttonEl.style.display =\n",
              "          google.colab.kernel.accessAllowed ? 'block' : 'none';\n",
              "\n",
              "        async function convertToInteractive(key) {\n",
              "          const element = document.querySelector('#df-9aa11850-f285-4765-953b-fb617f256106');\n",
              "          const dataTable =\n",
              "            await google.colab.kernel.invokeFunction('convertToInteractive',\n",
              "                                                     [key], {});\n",
              "          if (!dataTable) return;\n",
              "\n",
              "          const docLinkHtml = 'Like what you see? Visit the ' +\n",
              "            '<a target=\"_blank\" href=https://colab.research.google.com/notebooks/data_table.ipynb>data table notebook</a>'\n",
              "            + ' to learn more about interactive tables.';\n",
              "          element.innerHTML = '';\n",
              "          dataTable['output_type'] = 'display_data';\n",
              "          await google.colab.output.renderOutput(dataTable, element);\n",
              "          const docLink = document.createElement('div');\n",
              "          docLink.innerHTML = docLinkHtml;\n",
              "          element.appendChild(docLink);\n",
              "        }\n",
              "      </script>\n",
              "    </div>\n",
              "  </div>\n",
              "  "
            ],
            "application/vnd.google.colaboratory.module+javascript": "\n      import \"https://ssl.gstatic.com/colaboratory/data_table/99dac6621f6ae8c4/data_table.js\";\n\n      window.createDataTable({\n        data: [[{\n            'v': 7736,\n            'f': \"7736\",\n        },\n{\n            'v': 7737,\n            'f': \"7737\",\n        },\n{\n            'v': 0,\n            'f': \"0\",\n        },\n\" \\u00e2\\u0086\\u009d #lion takes revenge on trophy hunter   #blog #silver #gold #forex\",\n{\n            'v': 70,\n            'f': \"70\",\n        },\n\"  #lion takes revenge  trophy hunter   #blog #silver #gold #forex\"],\n [{\n            'v': 28831,\n            'f': \"28831\",\n        },\n{\n            'v': 28832,\n            'f': \"28832\",\n        },\n{\n            'v': 0,\n            'f': \"0\",\n        },\n\"\\\"no happiness here\\\" by uiotifdh3634    #raining #animation\",\n{\n            'v': 58,\n            'f': \"58\",\n        },\n\" happiness here  uiotifdh3634    #raining #animation\"],\n [{\n            'v': 30413,\n            'f': \"30413\",\n        },\n{\n            'v': 30414,\n            'f': \"30414\",\n        },\n{\n            'v': 0,\n            'f': \"0\",\n        },\n\"mazara seems like a good guy. too bad he's on the rangers. another year on this team and he will be a thug. that's what happens to you.  \",\n{\n            'v': 137,\n            'f': \"137\",\n        },\n\"mazara seems like  good       rangers another year  this team   will   thug thats what happens    \"],\n [{\n            'v': 17260,\n            'f': \"17260\",\n        },\n{\n            'v': 17261,\n            'f': \"17261\",\n        },\n{\n            'v': 0,\n            'f': \"0\",\n        },\n\"round 3 of the #destiny f****ery let's get the raids going for the viewers! @user #supposmallstreams   #notcoolbungie\",\n{\n            'v': 117,\n            'f': \"117\",\n        },\n\"round    #destiny fery lets   raids going   viewers  #supposmallstreams   #notcoolbungie\"],\n [{\n            'v': 29551,\n            'f': \"29551\",\n        },\n{\n            'v': 29552,\n            'f': \"29552\",\n        },\n{\n            'v': 0,\n            'f': \"0\",\n        },\n\"i like it it's very very   #animation \\u00e2\\u0099\\u00a5\\u00e2\\u0099\\u00a5\\u00e2\\u0099\\u00a5\\u00e2\\u0099\\u00a5\\u00e2\\u0099\\u00a5  \",\n{\n            'v': 55,\n            'f': \"55\",\n        },\n\" like   very very   #animation \\u00e2\\u00e2\\u00e2\\u00e2\\u00e2  \"]],\n        columns: [[\"number\", \"index\"], [\"number\", \"id\"], [\"number\", \"label\"], [\"string\", \"tweet\"], [\"number\", \"len_tweet\"], [\"string\", \"tidy_tweet\"]],\n        columnOptions: [{\"width\": \"1px\", \"className\": \"index_column\"}],\n        rowsPerPage: 25,\n        helpUrl: \"https://colab.research.google.com/notebooks/data_table.ipynb\",\n        suppressOutputScrolling: true,\n        minimumWidth: undefined,\n      });\n    "
          },
          "metadata": {},
          "execution_count": 110
        }
      ],
      "source": [
        "raw['tidy_tweet'] = raw['tidy_tweet'].apply(lambda x: re.sub(r'\\b\\w{1,3}\\b','',x))# YOUR CODE HERE\n",
        "raw.sample(5)"
      ]
    },
    {
      "cell_type": "markdown",
      "metadata": {
        "id": "Q5tzGFhXqHSd"
      },
      "source": [
        "11. Remove stopwords and perform text normalization. \n",
        "    \n",
        "    We will use `stopwords` collection and `SnowballStemmer` in `nltk` for this task. Before doing so, we need to tokenize the tweets. \n",
        "    Tokens are individual terms or words, and tokenization is simply to split a string of text into tokens. \n",
        "    You can use [`str.split()`](https://docs.python.org/3/library/stdtypes.html#str.split) on individual text and [`apply`](https://pandas.pydata.org/docs/reference/api/pandas.DataFrame.apply.html) a simple lambda function for the series `raw['tidy_tweet']` and save the result into `tokenized_tweet`. \n",
        "    \n",
        "    Check out some methods for the built-in type `str` [here](https://docs.python.org/3/library/stdtypes.html#string-methods)."
      ]
    },
    {
      "cell_type": "code",
      "execution_count": 111,
      "metadata": {
        "id": "XLxQQG8600Hs",
        "colab": {
          "base_uri": "https://localhost:8080/"
        },
        "outputId": "3e37c538-380f-47f6-94d2-e4826c1547a3"
      },
      "outputs": [
        {
          "output_type": "execute_result",
          "data": {
            "text/plain": [
              "0    [when, father, dysfunctional, selfish, drags, ...\n",
              "1    [thanks, #lyft, credit, cant, cause, they, don...\n",
              "2                              [bihday, your, majesty]\n",
              "3               [#model, love, take, with, time, ðððð]\n",
              "4                   [factsguide, society, #motivation]\n",
              "Name: tidy_tweet, dtype: object"
            ]
          },
          "metadata": {},
          "execution_count": 111
        }
      ],
      "source": [
        "tokenized_tweet = raw['tidy_tweet'].apply(lambda x:str.split(x))\n",
        "tokenized_tweet.head()\n"
      ]
    },
    {
      "cell_type": "markdown",
      "metadata": {
        "id": "SHtedqavqHSe"
      },
      "source": [
        "12. Extract stop words and remove them from the tokens.\n",
        "\n",
        "    Note: depending on the task / industry, it is highly recommended that one curate custom stop words. "
      ]
    },
    {
      "cell_type": "code",
      "execution_count": 112,
      "metadata": {
        "id": "wG6tMYE9qHSe",
        "colab": {
          "base_uri": "https://localhost:8080/"
        },
        "outputId": "7cdc6ab1-91d4-4ed6-af8e-1a746ca1ad40"
      },
      "outputs": [
        {
          "output_type": "stream",
          "name": "stderr",
          "text": [
            "[nltk_data] Downloading package stopwords to /root/nltk_data...\n",
            "[nltk_data]   Package stopwords is already up-to-date!\n"
          ]
        }
      ],
      "source": [
        "import nltk\n",
        "nltk.download('stopwords')\n",
        "from nltk.corpus import stopwords\n",
        "stop_words = stopwords.words('english')"
      ]
    },
    {
      "cell_type": "code",
      "source": [
        "stop_words"
      ],
      "metadata": {
        "id": "zlYBNuSwm7Dl",
        "colab": {
          "base_uri": "https://localhost:8080/"
        },
        "outputId": "1679553e-acb5-4838-879f-2203e55275b7"
      },
      "execution_count": 113,
      "outputs": [
        {
          "output_type": "execute_result",
          "data": {
            "text/plain": [
              "['i',\n",
              " 'me',\n",
              " 'my',\n",
              " 'myself',\n",
              " 'we',\n",
              " 'our',\n",
              " 'ours',\n",
              " 'ourselves',\n",
              " 'you',\n",
              " \"you're\",\n",
              " \"you've\",\n",
              " \"you'll\",\n",
              " \"you'd\",\n",
              " 'your',\n",
              " 'yours',\n",
              " 'yourself',\n",
              " 'yourselves',\n",
              " 'he',\n",
              " 'him',\n",
              " 'his',\n",
              " 'himself',\n",
              " 'she',\n",
              " \"she's\",\n",
              " 'her',\n",
              " 'hers',\n",
              " 'herself',\n",
              " 'it',\n",
              " \"it's\",\n",
              " 'its',\n",
              " 'itself',\n",
              " 'they',\n",
              " 'them',\n",
              " 'their',\n",
              " 'theirs',\n",
              " 'themselves',\n",
              " 'what',\n",
              " 'which',\n",
              " 'who',\n",
              " 'whom',\n",
              " 'this',\n",
              " 'that',\n",
              " \"that'll\",\n",
              " 'these',\n",
              " 'those',\n",
              " 'am',\n",
              " 'is',\n",
              " 'are',\n",
              " 'was',\n",
              " 'were',\n",
              " 'be',\n",
              " 'been',\n",
              " 'being',\n",
              " 'have',\n",
              " 'has',\n",
              " 'had',\n",
              " 'having',\n",
              " 'do',\n",
              " 'does',\n",
              " 'did',\n",
              " 'doing',\n",
              " 'a',\n",
              " 'an',\n",
              " 'the',\n",
              " 'and',\n",
              " 'but',\n",
              " 'if',\n",
              " 'or',\n",
              " 'because',\n",
              " 'as',\n",
              " 'until',\n",
              " 'while',\n",
              " 'of',\n",
              " 'at',\n",
              " 'by',\n",
              " 'for',\n",
              " 'with',\n",
              " 'about',\n",
              " 'against',\n",
              " 'between',\n",
              " 'into',\n",
              " 'through',\n",
              " 'during',\n",
              " 'before',\n",
              " 'after',\n",
              " 'above',\n",
              " 'below',\n",
              " 'to',\n",
              " 'from',\n",
              " 'up',\n",
              " 'down',\n",
              " 'in',\n",
              " 'out',\n",
              " 'on',\n",
              " 'off',\n",
              " 'over',\n",
              " 'under',\n",
              " 'again',\n",
              " 'further',\n",
              " 'then',\n",
              " 'once',\n",
              " 'here',\n",
              " 'there',\n",
              " 'when',\n",
              " 'where',\n",
              " 'why',\n",
              " 'how',\n",
              " 'all',\n",
              " 'any',\n",
              " 'both',\n",
              " 'each',\n",
              " 'few',\n",
              " 'more',\n",
              " 'most',\n",
              " 'other',\n",
              " 'some',\n",
              " 'such',\n",
              " 'no',\n",
              " 'nor',\n",
              " 'not',\n",
              " 'only',\n",
              " 'own',\n",
              " 'same',\n",
              " 'so',\n",
              " 'than',\n",
              " 'too',\n",
              " 'very',\n",
              " 's',\n",
              " 't',\n",
              " 'can',\n",
              " 'will',\n",
              " 'just',\n",
              " 'don',\n",
              " \"don't\",\n",
              " 'should',\n",
              " \"should've\",\n",
              " 'now',\n",
              " 'd',\n",
              " 'll',\n",
              " 'm',\n",
              " 'o',\n",
              " 're',\n",
              " 've',\n",
              " 'y',\n",
              " 'ain',\n",
              " 'aren',\n",
              " \"aren't\",\n",
              " 'couldn',\n",
              " \"couldn't\",\n",
              " 'didn',\n",
              " \"didn't\",\n",
              " 'doesn',\n",
              " \"doesn't\",\n",
              " 'hadn',\n",
              " \"hadn't\",\n",
              " 'hasn',\n",
              " \"hasn't\",\n",
              " 'haven',\n",
              " \"haven't\",\n",
              " 'isn',\n",
              " \"isn't\",\n",
              " 'ma',\n",
              " 'mightn',\n",
              " \"mightn't\",\n",
              " 'mustn',\n",
              " \"mustn't\",\n",
              " 'needn',\n",
              " \"needn't\",\n",
              " 'shan',\n",
              " \"shan't\",\n",
              " 'shouldn',\n",
              " \"shouldn't\",\n",
              " 'wasn',\n",
              " \"wasn't\",\n",
              " 'weren',\n",
              " \"weren't\",\n",
              " 'won',\n",
              " \"won't\",\n",
              " 'wouldn',\n",
              " \"wouldn't\"]"
            ]
          },
          "metadata": {},
          "execution_count": 113
        }
      ]
    },
    {
      "cell_type": "code",
      "source": [
        "len(tokenized_tweet[0])"
      ],
      "metadata": {
        "id": "yD3brSd8rfoG",
        "colab": {
          "base_uri": "https://localhost:8080/"
        },
        "outputId": "d17418a9-d4f7-4140-d369-386b3c9a3835"
      },
      "execution_count": 114,
      "outputs": [
        {
          "output_type": "execute_result",
          "data": {
            "text/plain": [
              "9"
            ]
          },
          "metadata": {},
          "execution_count": 114
        }
      ]
    },
    {
      "cell_type": "code",
      "source": [],
      "metadata": {
        "id": "ZDy6kUdzLRU3"
      },
      "execution_count": 114,
      "outputs": []
    },
    {
      "cell_type": "code",
      "execution_count": 115,
      "metadata": {
        "id": "BAlQDVC8HLE9",
        "colab": {
          "base_uri": "https://localhost:8080/"
        },
        "outputId": "b42f74b8-76a8-455e-ec9d-6fd13c8817df"
      },
      "outputs": [
        {
          "output_type": "execute_result",
          "data": {
            "text/plain": [
              "0    [father, dysfunctional, selfish, drags, kids, ...\n",
              "1    [thanks, #lyft, credit, cant, cause, dont, off...\n",
              "2                                    [bihday, majesty]\n",
              "3                     [#model, love, take, time, ðððð]\n",
              "4                   [factsguide, society, #motivation]\n",
              "Name: tidy_tweet, dtype: object"
            ]
          },
          "metadata": {},
          "execution_count": 115
        }
      ],
      "source": [
        "def removeStopWords(tweet):\n",
        "  filtered_sentence = [] \n",
        "  for w in tweet: \n",
        "    if w not in stop_words: \n",
        "        filtered_sentence.append(w) \n",
        "  \n",
        "  return filtered_sentence\n",
        "\n",
        "tokenized_tweet1 = tokenized_tweet.apply(lambda x:removeStopWords(x))\n",
        "\n",
        "tokenized_tweet1.head()\n"
      ]
    },
    {
      "cell_type": "code",
      "execution_count": 116,
      "metadata": {
        "id": "4NlUGjqCqHSe"
      },
      "outputs": [],
      "source": [
        "assert any(word in tokenized_tweet1 for word in stop_words) == False"
      ]
    },
    {
      "cell_type": "code",
      "source": [
        "for i in tokenized_tweet1[3]:\n",
        "  print(i)"
      ],
      "metadata": {
        "id": "nPxWWArykzP4",
        "colab": {
          "base_uri": "https://localhost:8080/"
        },
        "outputId": "8b40ef4a-8c24-46d7-a67c-23e4d57f58a3"
      },
      "execution_count": 117,
      "outputs": [
        {
          "output_type": "stream",
          "name": "stdout",
          "text": [
            "#model\n",
            "love\n",
            "take\n",
            "time\n",
            "ðððð\n"
          ]
        }
      ]
    },
    {
      "cell_type": "markdown",
      "metadata": {
        "id": "9iQM37ChqHSe"
      },
      "source": [
        "13. Create a new instance of a language specific [`SnowballStemmer`](https://www.nltk.org/api/nltk.stem.snowball.html), set the `language` to be \"english\"; see [how to](https://www.nltk.org/howto/stem.html). "
      ]
    },
    {
      "cell_type": "code",
      "execution_count": 118,
      "metadata": {
        "id": "deglx5x_04Bw"
      },
      "outputs": [],
      "source": [
        "from nltk.stem.snowball import SnowballStemmer\n",
        "stemmer = SnowballStemmer('english', True)"
      ]
    },
    {
      "cell_type": "code",
      "execution_count": 119,
      "metadata": {
        "id": "m04GNRisHLE-",
        "colab": {
          "base_uri": "https://localhost:8080/"
        },
        "outputId": "ea4452c7-a61b-4422-b1e0-5bcc3b3ad906"
      },
      "outputs": [
        {
          "output_type": "execute_result",
          "data": {
            "text/plain": [
              "7"
            ]
          },
          "metadata": {},
          "execution_count": 119
        }
      ],
      "source": [
        "tokenized_tweet2 = tokenized_tweet1.apply(lambda x: [stemmer.stem(i) for i in x]) \n",
        "len(tokenized_tweet2[0])"
      ]
    },
    {
      "cell_type": "code",
      "source": [
        "g = [\"cat\",\"dog\"]\n",
        "g = str().join(g)\n",
        "g"
      ],
      "metadata": {
        "id": "xyYfE_hj4rcL",
        "colab": {
          "base_uri": "https://localhost:8080/",
          "height": 35
        },
        "outputId": "ea42e1de-b3e1-418f-e48d-672124c94879"
      },
      "execution_count": 120,
      "outputs": [
        {
          "output_type": "execute_result",
          "data": {
            "text/plain": [
              "'catdog'"
            ],
            "application/vnd.google.colaboratory.intrinsic+json": {
              "type": "string"
            }
          },
          "metadata": {},
          "execution_count": 120
        }
      ]
    },
    {
      "cell_type": "markdown",
      "source": [],
      "metadata": {
        "id": "RwydLhIGvU5_"
      }
    },
    {
      "cell_type": "markdown",
      "metadata": {
        "id": "ZvMfXkyiqHSe"
      },
      "source": [
        "14. Lastly, let's stitch these tokens in `tokenized_tweet` back together and save them in `raw['tidy_tweet']`. \n",
        "Use [`str.join()`](https://docs.python.org/3/library/stdtypes.html#str.join) and `apply`."
      ]
    },
    {
      "cell_type": "code",
      "execution_count": 121,
      "metadata": {
        "id": "fxJgsMjL1Bp-",
        "colab": {
          "base_uri": "https://localhost:8080/"
        },
        "outputId": "a21385fe-b682-400c-f904-9ecee0152fff"
      },
      "outputs": [
        {
          "output_type": "execute_result",
          "data": {
            "text/plain": [
              "0        [father, dysfunct, selfish, drag, kid, dysfunc...\n",
              "1        [thank, #lyft, credit, cant, caus, dont, offer...\n",
              "2                                        [bihday, majesti]\n",
              "3                         [#model, love, take, time, ðððð]\n",
              "4                             [factsguid, societi, #motiv]\n",
              "                               ...                        \n",
              "31957                                   [youuuðððððððððâï]\n",
              "31958    [nina, turner, airwav, tri, wrap, mantl, genui...\n",
              "31959                   [listen, song, monday, morn, work]\n",
              "31960      [#sikh, #templ, vandalis, #calgari, #, condemn]\n",
              "31961                                      [thank, follow]\n",
              "Name: tidy_tweet, Length: 31962, dtype: object"
            ]
          },
          "metadata": {},
          "execution_count": 121
        }
      ],
      "source": [
        "raw['tidy_tweet'] = tokenized_tweet2\n",
        "raw['tidy_tweet'].apply(lambda x: str().join(x))\n",
        "raw['tidy_tweet']\n",
        "# YOUR CODE HERE"
      ]
    },
    {
      "cell_type": "markdown",
      "metadata": {
        "id": "Ui0kvijA1SKS"
      },
      "source": [
        "# Task 2. Wordcloud and Hashtag"
      ]
    },
    {
      "cell_type": "markdown",
      "metadata": {
        "id": "Xgyq4Qj0qHSg"
      },
      "source": [
        "In this task, we want to gain a general idea of what the common words were and how hashtags were used in tweets. \n",
        "We will create wordclouds and extract the top hashtags used in each label. "
      ]
    },
    {
      "cell_type": "markdown",
      "metadata": {
        "id": "VcNrDDXUqHSg"
      },
      "source": [
        "1. Before doing so, out of caution of possible data leakage, split the `raw['tidy_tweet']` into training and test datasets in a stratified fashion, set the test size at .25 and random state as 42.\n",
        "    \n",
        "    Save the results into `X_train`, `X_test`, `y_train`, and `y_test`."
      ]
    },
    {
      "cell_type": "code",
      "execution_count": 122,
      "metadata": {
        "id": "qwoflQr71QhH"
      },
      "outputs": [],
      "source": [
        "from sklearn.model_selection import train_test_split\n",
        "\n",
        "X_train, X_test, y_train, y_test = train_test_split(\n",
        "    raw['tidy_tweet'], raw.label, \n",
        "    test_size=0.25, random_state=42, stratify=raw.label)"
      ]
    },
    {
      "cell_type": "code",
      "execution_count": 123,
      "metadata": {
        "id": "6QKFflId1XYb"
      },
      "outputs": [],
      "source": [
        "assert X_train.shape == y_train.shape == (23971, )\n",
        "assert X_test.shape == y_test.shape == (7991,)"
      ]
    },
    {
      "cell_type": "markdown",
      "metadata": {
        "id": "I1JaWVklqHSg"
      },
      "source": [
        "2. A word cloud is a cluster of words depicted in different sizes. \n",
        "The bigger the word appears, the more often it appears in the given text. \n",
        "It can offer an easy visual presentation to reveal the theme of a topic. \n",
        "\n",
        "    Function `plot_wordcloud` is provided to plot 50 most frequent words from the given text in the shape of twitter's logo. \n",
        "    You may need to replace the image path accordingly."
      ]
    },
    {
      "cell_type": "code",
      "execution_count": 124,
      "metadata": {
        "id": "UByekRZz1rxT"
      },
      "outputs": [],
      "source": [
        "from wordcloud import WordCloud\n",
        "import matplotlib.pyplot as plt\n",
        "import numpy as np\n",
        "from PIL import Image\n",
        "\n",
        "def plot_wordcloud(text:str) -> None:\n",
        "    '''\n",
        "    Plot a wordcloud of top 50 words from the input text\n",
        "    masked by twitter logo\n",
        "    '''\n",
        "    mask = np.array(Image.open('/content/drive/My Drive/Colab Notebooks/twitter-mask.png')) # REPLACE w/ YOUR FILE PATH\n",
        "    wordcloud = WordCloud( \n",
        "        background_color='white', \n",
        "        random_state=42,\n",
        "        max_words=50, \n",
        "        max_font_size=80, \n",
        "        mask = mask).generate(text)\n",
        "    plt.figure(figsize=(10,10))\n",
        "    plt.imshow(wordcloud, interpolation=\"bilinear\")\n",
        "    plt.axis(\"off\")\n",
        "    plt.show()"
      ]
    },
    {
      "cell_type": "markdown",
      "metadata": {
        "id": "9bK-Eqb1qHSh"
      },
      "source": [
        "3. Visualize the wordcloud. \n",
        "\n",
        "    The function expects one long string. \n",
        "    Stitch all tidy tweets from training set and save the single string to `all_words`, then visualize the wordcloud for all the words."
      ]
    },
    {
      "cell_type": "code",
      "execution_count": 125,
      "metadata": {
        "id": "EnDDuy7R2Bb5"
      },
      "outputs": [],
      "source": [
        "all_words =  ','.join(X_train.astype(str))"
      ]
    },
    {
      "cell_type": "code",
      "execution_count": 126,
      "metadata": {
        "id": "Ee6LQ9dE2TYi",
        "colab": {
          "base_uri": "https://localhost:8080/",
          "height": 511
        },
        "outputId": "295d65c7-53ee-4546-ea0a-d126fd8f0e3c"
      },
      "outputs": [
        {
          "output_type": "display_data",
          "data": {
            "text/plain": [
              "<Figure size 720x720 with 1 Axes>"
            ],
            "image/png": "[encoded data removed]"
          },
          "metadata": {
            "needs_background": "light"
          }
        }
      ],
      "source": [
        "plot_wordcloud(all_words)"
      ]
    },
    {
      "cell_type": "code",
      "source": [
        "len(all_words)"
      ],
      "metadata": {
        "id": "5Jp7TFqH9PVx",
        "colab": {
          "base_uri": "https://localhost:8080/"
        },
        "outputId": "49126c77-62a1-45bb-c0ad-35e40521c142"
      },
      "execution_count": 127,
      "outputs": [
        {
          "output_type": "execute_result",
          "data": {
            "text/plain": [
              "1712126"
            ]
          },
          "metadata": {},
          "execution_count": 127
        }
      ]
    },
    {
      "cell_type": "markdown",
      "metadata": {
        "id": "luL-uZdHqHSh"
      },
      "source": [
        "4. Visualize the wordcloud just for the text from the tweets identified as hate speech. \n",
        "\n",
        "    Similarly, you need to stitch all the tidy tweets in training set that were identified as hate speech. \n",
        "    Save the long string to `negative_words`."
      ]
    },
    {
      "cell_type": "code",
      "execution_count": 128,
      "metadata": {
        "id": "0gp9fXlr2pik"
      },
      "outputs": [],
      "source": [
        "negative_raw = raw[raw[\"label\"] == 1][\"tidy_tweet\"]\n",
        "negative_words =  ','.join(str(i) for i in negative_raw)\n",
        "#dont understand how to get negative ones in the training data a labels arent' part of training data"
      ]
    },
    {
      "cell_type": "code",
      "execution_count": 129,
      "metadata": {
        "id": "gmtJ41t22uhR",
        "colab": {
          "base_uri": "https://localhost:8080/",
          "height": 511
        },
        "outputId": "03026612-e05f-4206-997c-70cb21958694"
      },
      "outputs": [
        {
          "output_type": "display_data",
          "data": {
            "text/plain": [
              "<Figure size 720x720 with 1 Axes>"
            ],
            "image/png": "[encoded data removed]"
          },
          "metadata": {
            "needs_background": "light"
          }
        }
      ],
      "source": [
        "plot_wordcloud(negative_words)"
      ]
    },
    {
      "cell_type": "markdown",
      "metadata": {
        "id": "l0B4y2c0qHSh"
      },
      "source": [
        "5. Hashtag is a feature for tweets and we would like to inspect if hashtags provide information for our classification task. \n",
        "\n",
        "    Function `hashtag_extract` is provided to extract hastags from an iterable (list or series) and return the hashtags in a list. "
      ]
    },
    {
      "cell_type": "code",
      "execution_count": 130,
      "metadata": {
        "id": "GqtqY7a422_e"
      },
      "outputs": [],
      "source": [
        "def hashtag_extract(x) -> list:\n",
        "    \"\"\"\n",
        "    extract hastags from an iterable (list or series) and \n",
        "    return the hashtags in a list.\n",
        "    \"\"\"\n",
        "    hashtags = []\n",
        "    # Loop over the words in the tweet\n",
        "    for i in x:\n",
        "        ht = re.findall(r\"#(\\w+)\", i)\n",
        "        hashtags.append(ht)\n",
        "    return hashtags"
      ]
    },
    {
      "cell_type": "markdown",
      "metadata": {
        "id": "nU3Zu-flqHSh"
      },
      "source": [
        "6. Extract hashtags from non-hate speech tweets."
      ]
    },
    {
      "cell_type": "code",
      "execution_count": 131,
      "metadata": {
        "id": "AVXhRL7m264-"
      },
      "outputs": [],
      "source": [
        "HT_regular = hashtag_extract(X_train.astype(str))"
      ]
    },
    {
      "cell_type": "code",
      "source": [
        "def hashtag_extract(x) -> list:\n",
        "    \"\"\"\n",
        "    extract hastags from an iterable (list or series) and \n",
        "    return the hashtags in a list.\n",
        "    \"\"\"\n",
        "    hashtags = []\n",
        "    # Loop over the words in the tweet\n",
        "    for i in x:\n",
        "        ht = re.findall(r\"#(\\w+)\", i)\n",
        "        hashtags.append(ht)\n",
        "    return hashtags"
      ],
      "metadata": {
        "id": "15d7rqH2ynbD"
      },
      "execution_count": 132,
      "outputs": []
    },
    {
      "cell_type": "markdown",
      "source": [],
      "metadata": {
        "id": "rBllXFhYyjMY"
      }
    },
    {
      "cell_type": "markdown",
      "source": [],
      "metadata": {
        "id": "nTFcR7mVyi6q"
      }
    },
    {
      "cell_type": "code",
      "execution_count": 133,
      "metadata": {
        "id": "vp1TyoOL3OoM"
      },
      "outputs": [],
      "source": [
        "assert type(HT_regular) == list\n",
        "assert type(HT_regular[0]) == list # nested list"
      ]
    },
    {
      "cell_type": "markdown",
      "metadata": {
        "id": "4AmW0K8HqHSh"
      },
      "source": [
        "7. Now extract hashtags from hate speech tweets."
      ]
    },
    {
      "cell_type": "code",
      "execution_count": 134,
      "metadata": {
        "id": "jLaYv03728h5"
      },
      "outputs": [],
      "source": [
        "HT_negative = hashtag_extract(negative_raw.astype(str))"
      ]
    },
    {
      "cell_type": "markdown",
      "metadata": {
        "id": "cowz9OnGqHSi"
      },
      "source": [
        "8. Both `HT_regular` and `HT_negative` are nested lists, so use the following trick to unnest both lists."
      ]
    },
    {
      "cell_type": "code",
      "execution_count": 135,
      "metadata": {
        "id": "lQnGQJ2n3F1X"
      },
      "outputs": [],
      "source": [
        "HT_regular = sum(HT_regular,[])\n",
        "HT_negative = sum(HT_negative,[])"
      ]
    },
    {
      "cell_type": "code",
      "source": [
        "type(negative_words)"
      ],
      "metadata": {
        "id": "JpJDqg20vq-y",
        "colab": {
          "base_uri": "https://localhost:8080/"
        },
        "outputId": "bb6608a2-9752-462c-c24e-c025e019ba3b"
      },
      "execution_count": 136,
      "outputs": [
        {
          "output_type": "execute_result",
          "data": {
            "text/plain": [
              "str"
            ]
          },
          "metadata": {},
          "execution_count": 136
        }
      ]
    },
    {
      "cell_type": "code",
      "execution_count": 137,
      "metadata": {
        "id": "RDYOiVR83H1c"
      },
      "outputs": [],
      "source": [
        "assert type(HT_regular) == type(HT_negative) == list\n",
        "assert type(HT_regular[0]) == type(HT_negative[0]) == str"
      ]
    },
    {
      "cell_type": "markdown",
      "metadata": {
        "id": "zR7o3Cp7qHSi"
      },
      "source": [
        "9. Complete the function `top_hashtags` below to take a list of hashtags and return the top `n` hashtag keyword and its frequncy. "
      ]
    },
    {
      "cell_type": "code",
      "execution_count": 138,
      "metadata": {
        "id": "gDatTFKT3cjp"
      },
      "outputs": [],
      "source": [
        "from typing import List, Tuple\n",
        "from collections import Counter\n",
        "def top_hashtags(hashtags:List[str], n=10) -> List[Tuple[str, int]]:\n",
        "    ''' Function to return the top n hashtags '''\n",
        "    c = Counter(hashtags)\n",
        "    return c.most_common(n)\n",
        "\n",
        "\n"
      ]
    },
    {
      "cell_type": "markdown",
      "metadata": {
        "id": "G3lIHzsLHLFH"
      },
      "source": [
        "1. Apply the function to the hashtag lists from the non-hate speech tweets and the hate speech tweets."
      ]
    },
    {
      "cell_type": "code",
      "execution_count": 139,
      "metadata": {
        "id": "gG84iMvE3m78",
        "colab": {
          "base_uri": "https://localhost:8080/"
        },
        "outputId": "03ec807b-bd18-4ab0-cda5-784da718bfd3"
      },
      "outputs": [
        {
          "output_type": "execute_result",
          "data": {
            "text/plain": [
              "[('love', 1191),\n",
              " ('posit', 686),\n",
              " ('smile', 486),\n",
              " ('healthi', 418),\n",
              " ('thank', 395),\n",
              " ('affirm', 324),\n",
              " ('life', 313),\n",
              " ('model', 285),\n",
              " ('summer', 270),\n",
              " ('i_am', 264)]"
            ]
          },
          "metadata": {},
          "execution_count": 139
        }
      ],
      "source": [
        "# YOUR CODE HERE\n",
        "top_hashtags(HT_regular)"
      ]
    },
    {
      "cell_type": "code",
      "execution_count": 140,
      "metadata": {
        "id": "-BHAjo7Y3pYO",
        "colab": {
          "base_uri": "https://localhost:8080/"
        },
        "outputId": "081ddf44-87f7-4ffb-c28a-5775dcf7c76e"
      },
      "outputs": [
        {
          "output_type": "execute_result",
          "data": {
            "text/plain": [
              "[('trump', 133),\n",
              " ('polit', 94),\n",
              " ('allahsoil', 92),\n",
              " ('liber', 81),\n",
              " ('libtard', 77),\n",
              " ('retweet', 57),\n",
              " ('black', 46),\n",
              " ('miamiâ', 38),\n",
              " ('hate', 36),\n",
              " ('bigot', 35)]"
            ]
          },
          "metadata": {},
          "execution_count": 140
        }
      ],
      "source": [
        "# YOUR CODE HERE\n",
        "top_hashtags(HT_negative)"
      ]
    },
    {
      "cell_type": "markdown",
      "metadata": {
        "id": "IjJbs5SsqHSi"
      },
      "source": [
        "10. DISCUSS: are these hashtags making sense? should we include them as features or should we strip the # before tokenizing (that is, treat \"#love\" the same as \"love\")? why and why not?\n",
        "          #YOUR ANSWER HERE\n",
        "\n",
        "          I think they make sense as the hashtag denotes that the user placed paricular emphasis on those words. "
      ]
    },
    {
      "cell_type": "markdown",
      "metadata": {
        "id": "CEYAGVIl37vK"
      },
      "source": [
        "# Task 3. Features"
      ]
    },
    {
      "cell_type": "markdown",
      "metadata": {
        "id": "J7ekNaI9qHSj"
      },
      "source": [
        "Note that almost all the machine learning related Python modules expect numerical presentation of data; thus we need to transform our text first.\n",
        "We will experiment with bag of words, tf-idf, and word2vec.  "
      ]
    },
    {
      "cell_type": "markdown",
      "metadata": {
        "id": "xKTmxB0BqHSj"
      },
      "source": [
        "1. Convert the collection of text documents to a matrix of token counts.\n",
        "\n",
        "    Check the [official documentation](https://scikit-learn.org/stable/modules/generated/sklearn.feature_extraction.text.CountVectorizer.html). \n",
        "    \n",
        "    Create an instance of `CountVectorizer` named `bow_vectorizer`, set `max_features` to be `MAX_FEATURES`.\n",
        "    Learn the vocabulary dictionary and return document-term matrix and save it to `bow_train`. Use `.fit_transform`. "
      ]
    },
    {
      "cell_type": "code",
      "execution_count": 141,
      "metadata": {
        "id": "uNb93rk3392m"
      },
      "outputs": [],
      "source": [
        "from sklearn.feature_extraction.text import CountVectorizer\n",
        "MAX_FEATURES = 1000\n",
        "\n",
        "\n",
        "bow_vectorizer = CountVectorizer(max_features = MAX_FEATURES)\n",
        "bow_train = bow_vectorizer.fit_transform(X_train.astype(str))"
      ]
    },
    {
      "cell_type": "code",
      "execution_count": 142,
      "metadata": {
        "id": "mZd0m7px4OEZ"
      },
      "outputs": [],
      "source": [
        "assert bow_train.shape == (X_train.shape[0], MAX_FEATURES)"
      ]
    },
    {
      "cell_type": "markdown",
      "metadata": {
        "id": "6gW16ek1qHSj"
      },
      "source": [
        "2. Print the first three rows from `bow_train`. Hint: `.toarray()`."
      ]
    },
    {
      "cell_type": "code",
      "execution_count": 143,
      "metadata": {
        "id": "pYsQFElmqHSj",
        "colab": {
          "base_uri": "https://localhost:8080/"
        },
        "outputId": "99d6ce1d-e2a6-4980-ec95-1125b7b66e84"
      },
      "outputs": [
        {
          "output_type": "execute_result",
          "data": {
            "text/plain": [
              "array([[0, 0, 0, ..., 0, 0, 0],\n",
              "       [1, 0, 0, ..., 0, 0, 0],\n",
              "       [0, 0, 0, ..., 0, 0, 0]])"
            ]
          },
          "metadata": {},
          "execution_count": 143
        }
      ],
      "source": [
        "# YOUR CODE\n",
        "bow_train.toarray()[:3]"
      ]
    },
    {
      "cell_type": "code",
      "execution_count": 144,
      "metadata": {
        "id": "lY2VSoMg48kb",
        "scrolled": true,
        "colab": {
          "base_uri": "https://localhost:8080/"
        },
        "outputId": "8c6056fd-e4ff-4497-c67f-1c2eca36a683"
      },
      "outputs": [
        {
          "output_type": "stream",
          "name": "stderr",
          "text": [
            "<ipython-input-144-873637c8bfb2>:1: DeprecationWarning: Please use `csr_matrix` from the `scipy.sparse` namespace, the `scipy.sparse.csr` namespace is deprecated.\n",
            "  from scipy.sparse.csr import csr_matrix\n"
          ]
        }
      ],
      "source": [
        "from scipy.sparse.csr import csr_matrix\n",
        "assert type(bow_train) == csr_matrix"
      ]
    },
    {
      "cell_type": "markdown",
      "metadata": {
        "id": "oQdQrhVNqHSj"
      },
      "source": [
        "3. Similarly, convert the collection of text documents to a matrix of TF-IDF features.\n",
        "    \n",
        "    Create an instance of [`TfidfVectorizer`](https://scikit-learn.org/stable/modules/generated/sklearn.feature_extraction.text.TfidfVectorizer.html#sklearn.feature_extraction.text.TfidfVectorizer) named `tfidf_vectorizer`, set `max_features` to be `MAX_FEATURES`.\n",
        "\n",
        "    Learn the vocabulary and idf, return document-term matrix and save it to `tfidf_train`. "
      ]
    },
    {
      "cell_type": "code",
      "execution_count": 145,
      "metadata": {
        "id": "ijW78I3v4Y81"
      },
      "outputs": [],
      "source": [
        "from sklearn.feature_extraction.text import TfidfVectorizer"
      ]
    },
    {
      "cell_type": "code",
      "execution_count": 146,
      "metadata": {
        "id": "aDUa96KO4bmT"
      },
      "outputs": [],
      "source": [
        "tfidf_vectorizer = TfidfVectorizer(max_features=MAX_FEATURES)    #YOUR CODE HERE\n",
        "tfidf_train = tfidf_vectorizer.fit_transform(X_train.astype(str))"
      ]
    },
    {
      "cell_type": "code",
      "execution_count": 147,
      "metadata": {
        "id": "vTrhLbMi4fjg"
      },
      "outputs": [],
      "source": [
        "assert type(tfidf_train) == csr_matrix\n",
        "assert tfidf_train.shape == bow_train.shape == (X_train.shape[0], MAX_FEATURES)"
      ]
    },
    {
      "cell_type": "markdown",
      "metadata": {
        "id": "7OSGoE73Avaj"
      },
      "source": [
        "4. Extract word embeddings using Word2Vec. \n",
        "We will use [`gensim`](https://radimrehurek.com/gensim/auto_examples/tutorials/run_word2vec.html) for this task. \n",
        "    \n",
        "    The Word2Vec model takes either a list of lists of tokens or an iterable that streams the sentences directly from disk/network. \n",
        "    Here, we tokenize the tidy tweets in `X_train` and save the list (`pd.series`) of lists of tokens to `tokenized_tweet`. "
      ]
    },
    {
      "cell_type": "code",
      "execution_count": 206,
      "metadata": {
        "id": "sadI5JU257TF"
      },
      "outputs": [],
      "source": [
        "tokenized_tweet = X_train.astype(str).apply(lambda x:x.split())\n"
      ]
    },
    {
      "cell_type": "code",
      "execution_count": 207,
      "metadata": {
        "id": "MK1E2oM36Apt"
      },
      "outputs": [],
      "source": [
        "assert tokenized_tweet.shape == X_train.shape"
      ]
    },
    {
      "cell_type": "code",
      "execution_count": 208,
      "metadata": {
        "id": "hQ__p8hn6E5r",
        "colab": {
          "base_uri": "https://localhost:8080/"
        },
        "outputId": "55adc674-da75-4aa2-e572-4369757d5782"
      },
      "outputs": [
        {
          "output_type": "execute_result",
          "data": {
            "text/plain": [
              "1036     [['like',, 'spread',, 'peanut',, 'butter',, 'w...\n",
              "2380     [['watch',, 'made',, 'america',, 'simpson',, '...\n",
              "31605    [['franci',, 'underwood',, 'seen',, 'leav',, '...\n",
              "23437    [['#',, '#enjoy',, '#music',, '#today',, '#fre...\n",
              "2669     [['#juic',, 'experi',, '#notsobad',, '#healthy...\n",
              "Name: tidy_tweet, dtype: object"
            ]
          },
          "metadata": {},
          "execution_count": 208
        }
      ],
      "source": [
        "tokenized_tweet.head()"
      ]
    },
    {
      "cell_type": "markdown",
      "metadata": {
        "id": "rBeFwgakqHSk"
      },
      "source": [
        "5. Import `Word2Vec` from `gensim.models`; see [doc](https://radimrehurek.com/gensim/models/word2vec.html#gensim.models.word2vec.Word2Vec). \n",
        "\n",
        "    Create a skip-gram `Word2Vec` instance named `w2v` that learns on the `tokenized_tweet`, with `vector_size` set at `MAX_FEATURES`, and other parameters are provided. "
      ]
    },
    {
      "cell_type": "code",
      "execution_count": 151,
      "metadata": {
        "id": "vgYpd2kq6LW0"
      },
      "outputs": [],
      "source": [
        "from gensim.models import Word2Vec"
      ]
    },
    {
      "cell_type": "code",
      "execution_count": 152,
      "metadata": {
        "id": "yfPufOPJ6MFl"
      },
      "outputs": [],
      "source": [
        "w2v = Word2Vec(\n",
        "        tokenized_tweet,\n",
        "        vector_size = MAX_FEATURES,\n",
        "        window=5, min_count=2, sg = 1, \n",
        "        hs = 0, negative = 10,  workers= 2, \n",
        "        seed = 34)"
      ]
    },
    {
      "cell_type": "code",
      "source": [
        "X_train"
      ],
      "metadata": {
        "colab": {
          "base_uri": "https://localhost:8080/"
        },
        "id": "ia-OpV-hgu3_",
        "outputId": "5bc1683c-2b6e-4217-a69d-c77ffe94bddc"
      },
      "execution_count": 200,
      "outputs": [
        {
          "output_type": "execute_result",
          "data": {
            "text/plain": [
              "1036     [like, spread, peanut, butter, white, bread, #...\n",
              "2380     [watch, made, america, simpson, 30for30, inter...\n",
              "31605    [franci, underwood, seen, leav, marseill, #nojok]\n",
              "23437    [#, #enjoy, #music, #today, #free, #app, #free...\n",
              "2669     [#juic, experi, #notsobad, #healthyliv, #eatcl...\n",
              "                               ...                        \n",
              "15438    [scratch, last, tweet, sorri, someon, borrow, ...\n",
              "29797    [special, moment, everyth, around, #famili, #f...\n",
              "15613                     [kudo, compliant, #itaxnirahisi]\n",
              "1955     [#streetautopia, attack, bull, game, realli, t...\n",
              "9371                                                    []\n",
              "Name: tidy_tweet, Length: 23971, dtype: object"
            ]
          },
          "metadata": {},
          "execution_count": 200
        }
      ]
    },
    {
      "cell_type": "markdown",
      "metadata": {
        "id": "DpSomU5qqHSk"
      },
      "source": [
        "6. Train the skip-gram model, set the epochs at 20."
      ]
    },
    {
      "cell_type": "code",
      "execution_count": 153,
      "metadata": {
        "id": "eyMxunhc7jAm",
        "colab": {
          "base_uri": "https://localhost:8080/"
        },
        "outputId": "843a52f4-ce79-400e-a678-b521cc9213f0"
      },
      "outputs": [
        {
          "output_type": "stream",
          "name": "stderr",
          "text": [
            "WARNING:gensim.models.word2vec:Effective 'alpha' higher than previous training cycles\n"
          ]
        },
        {
          "output_type": "stream",
          "name": "stdout",
          "text": [
            "CPU times: user 1min 37s, sys: 201 ms, total: 1min 37s\n",
            "Wall time: 1min 10s\n"
          ]
        },
        {
          "output_type": "execute_result",
          "data": {
            "text/plain": [
              "(2676111, 3363520)"
            ]
          },
          "metadata": {},
          "execution_count": 153
        }
      ],
      "source": [
        "%%time\n",
        "w2v.train(tokenized_tweet, total_examples=w2v.corpus_count, epochs=20)"
      ]
    },
    {
      "cell_type": "markdown",
      "metadata": {
        "id": "VIGnBtKvqHSk"
      },
      "source": [
        "7. Let's see how the model performs. \n",
        "Specify a word and print out the 10 most similar words from the our tweets in the training set. \n",
        "Use [`most_similar`](https://radimrehurek.com/gensim/models/keyedvectors.html#gensim.models.keyedvectors.KeyedVectors.most_similar). \n",
        "Hint: print the type of `w2v` and `w2v.wv`."
      ]
    },
    {
      "cell_type": "code",
      "execution_count": 224,
      "metadata": {
        "id": "Sy9r-1Uz7sXl",
        "colab": {
          "base_uri": "https://localhost:8080/"
        },
        "outputId": "73adfc34-c7f6-45b6-b101-3735ea552054"
      },
      "outputs": [
        {
          "output_type": "execute_result",
          "data": {
            "text/plain": [
              "gensim.models.keyedvectors.KeyedVectors"
            ]
          },
          "metadata": {},
          "execution_count": 224
        }
      ],
      "source": [
        "# YOUR CODE HERE\n",
        "w2v.save(\"word2vec.model\")\n",
        "w2v = Word2Vec.load(\"word2vec.model\")\n",
        "type(w2v.wv)\n",
        "#common = w2v.wv.most_similar('happi')\n",
        "#print(common)\n"
      ]
    },
    {
      "cell_type": "markdown",
      "metadata": {
        "id": "THzz40pI8cii"
      },
      "source": [
        "8. Discuss: how does w2v calculate the similarities? \n",
        "\n",
        "  YOUR ANSWER HERE"
      ]
    },
    {
      "cell_type": "markdown",
      "metadata": {
        "id": "PpUeqahqqHSl"
      },
      "source": [
        "9. Discuss: do you think Word2Vec is supervised or unsupervised ML technique?\n",
        "\n",
        "    YOUR ANSWER HERE"
      ]
    },
    {
      "cell_type": "markdown",
      "metadata": {
        "id": "-kDDUHKTqHSl"
      },
      "source": [
        "10. Engineer features. \n",
        "\n",
        "    For each tweet, we calculate the average of embeddings (function `word_vector`) and then apply it to every tidy tweet in `X_train` (use function `tokens_to_array`).\n",
        "    Both functions are provided, inspect the code and save the features in `w2v_train`."
      ]
    },
    {
      "cell_type": "code",
      "execution_count": null,
      "metadata": {
        "id": "NudS0OF28b_d"
      },
      "outputs": [],
      "source": [
        "from gensim.models.keyedvectors import KeyedVectors\n",
        "\n",
        "def word_vector(tokens:list, size:int, keyed_vec:KeyedVectors= w2v.wv):\n",
        "    vec = np.zeros(size).reshape((1, size))\n",
        "    count = 0\n",
        "    for word in tokens:\n",
        "        try:\n",
        "            vec += keyed_vec[word].reshape((1, size))\n",
        "            count += 1\n",
        "        except KeyError: \n",
        "            # handling the case where the token is not in vocabulary        \n",
        "            continue\n",
        "    if count != 0:\n",
        "        vec /= count\n",
        "    return vec\n",
        "\n",
        "def tokens_to_array(tokens:list, size:int, keyed_vec:KeyedVectors= w2v.wv):\n",
        "    array = np.zeros((len(tokens), size))\n",
        "    for i in range(len(tokens)):\n",
        "        array[i,:] = word_vector(tokens.iloc[i], size, keyed_vec=keyed_vec)\n",
        "    return array"
      ]
    },
    {
      "cell_type": "code",
      "execution_count": null,
      "metadata": {
        "id": "vea6FT7V8yuR"
      },
      "outputs": [],
      "source": [
        "w2v_train = # YOUR CODE HERE"
      ]
    },
    {
      "cell_type": "code",
      "execution_count": null,
      "metadata": {
        "id": "UV5XtAk09iZl"
      },
      "outputs": [],
      "source": [
        "assert w2v_train.shape == (X_train.shape[0], MAX_FEATURES)"
      ]
    },
    {
      "cell_type": "markdown",
      "metadata": {
        "id": "dhzWKjs_9o55"
      },
      "source": [
        "11. Prepare the test data before modeling for each approach:\n",
        "\n",
        "\n",
        "  - extract features from `X_test` using the bag of words approach; use `bow_vectorizer`\n",
        "  - extract features from `X_test` using the tf-idf approach; use `tfidf_vectorizer`\n",
        "  - extract features from `X_test` using Word2Vec embeddings; you need to first tokenized the tidy tweets in `X_test`, then convert the tokens to array of shape `(X_test.shape[0], MAX_FEATURES)`."
      ]
    },
    {
      "cell_type": "code",
      "execution_count": null,
      "metadata": {
        "id": "Iv5j92GP9nyC"
      },
      "outputs": [],
      "source": [
        "bow_test = # YOUR CODE HERE\n",
        "tfidf_test = # YOUR CODE HERE\n",
        "\n",
        "tokenized_tweet_test = # YOUR CODE HERE\n",
        "w2v_test = # YOUR CODE HERE"
      ]
    },
    {
      "cell_type": "code",
      "execution_count": null,
      "metadata": {
        "id": "tJw-KwNu9_l6"
      },
      "outputs": [],
      "source": [
        "assert bow_test.shape == tfidf_test.shape == w2v_test.shape == (X_test.shape[0], MAX_FEATURES)"
      ]
    },
    {
      "cell_type": "markdown",
      "metadata": {
        "id": "0zHJBHsC3w7J"
      },
      "source": [
        "# Task 4. Naive Bayes classifiers"
      ]
    },
    {
      "cell_type": "markdown",
      "metadata": {
        "id": "bN3pJcOI3_xs"
      },
      "source": [
        "In this task, you will build a [naive Bayes](https://sebastianraschka.com/Articles/2014_naive_bayes_1.html) (here's another [ref](https://www.inf.ed.ac.uk/teaching/courses/inf2b/learnnotes/inf2b-learn07-notes-nup.pdf)), classifiers to identify the hate speech tweets using different sets of features from the last task, and evaluate their performances. \n",
        "\n",
        "In the era of deep learning, naive Bayes is useful due to its simplicity and reasonable performance, especially if there is not much training data available. A common interview question is \"Why is naive Bayes naive?\". \n",
        "\n",
        "We will use multi-variate Bernoulli naive Bayes [`BernoulliNB`](https://scikit-learn.org/stable/modules/generated/sklearn.naive_bayes.BernoulliNB.html); try other flavors of [naive Bayes](https://scikit-learn.org/stable/modules/classes.html#module-sklearn.naive_bayes) if time permits. Code is pretty straightforward. \n",
        "\n",
        "1. Import `BernoulliNB` for modeling and `classification_report` for reporting performance. "
      ]
    },
    {
      "cell_type": "code",
      "execution_count": null,
      "metadata": {
        "id": "fwaj5Ksd3rk8"
      },
      "outputs": [],
      "source": [
        "from sklearn.naive_bayes import BernoulliNB\n",
        "from sklearn.metrics import classification_report"
      ]
    },
    {
      "cell_type": "markdown",
      "metadata": {
        "id": "lp8jYLY_qHSm"
      },
      "source": [
        "2. Create an instance of  `BernoulliNB` named `BNBmodel`. \n",
        "\n",
        "    We can use it for all three feature sets."
      ]
    },
    {
      "cell_type": "code",
      "execution_count": null,
      "metadata": {
        "id": "R9NtOCqv3wRK"
      },
      "outputs": [],
      "source": [
        "# YOUR CODE HERE"
      ]
    },
    {
      "cell_type": "markdown",
      "metadata": {
        "id": "AKuGCGdfqHSm"
      },
      "source": [
        "3. Train the multi-variate Bernoulli naive Bayes using bag of words features and print the performance report."
      ]
    },
    {
      "cell_type": "code",
      "execution_count": null,
      "metadata": {
        "id": "hJjuMZspahLB"
      },
      "outputs": [],
      "source": [
        "# YOUR CODE HERE (train the model)"
      ]
    },
    {
      "cell_type": "code",
      "execution_count": null,
      "metadata": {
        "id": "eNzjV0mUqHSm"
      },
      "outputs": [],
      "source": [
        "# YOUR CODE HERE (report)"
      ]
    },
    {
      "cell_type": "markdown",
      "metadata": {
        "id": "ntqO9Ic1qHSm"
      },
      "source": [
        "4. Similarly, train the model using tf-idf features and print the performance report. \n",
        "\n",
        "    Is the performance expected? Why or why not?"
      ]
    },
    {
      "cell_type": "code",
      "execution_count": null,
      "metadata": {
        "id": "8X0OXMVt-he0"
      },
      "outputs": [],
      "source": [
        "# YOUR CODE HERE"
      ]
    },
    {
      "cell_type": "code",
      "execution_count": null,
      "metadata": {
        "id": "gUi0SFfFqHSm"
      },
      "outputs": [],
      "source": [
        "# YOUR CODE HERE"
      ]
    },
    {
      "cell_type": "markdown",
      "metadata": {
        "id": "ZJQu2WZyqHSm"
      },
      "source": [
        "5. Finally, train the model using Word2Vec embeddings and report the performance. "
      ]
    },
    {
      "cell_type": "code",
      "execution_count": null,
      "metadata": {
        "id": "h69fbpcvbHs8"
      },
      "outputs": [],
      "source": [
        "# YOUR CODE HERE\n",
        "# YOUR CODE HERE"
      ]
    },
    {
      "cell_type": "markdown",
      "metadata": {
        "id": "fm1hTdBf_qJd"
      },
      "source": [
        "6. Discuss the differences in performace using tf-idf vs skim-gram embeddings. \n",
        "\n",
        "    YOUR ANSWER HERE"
      ]
    },
    {
      "cell_type": "markdown",
      "metadata": {
        "id": "-XdbHGM8qHSm"
      },
      "source": [
        "7. Examine a few tweets where the model(s) failed. \n",
        "What other features would you include in the next iteration?\n",
        "\n",
        "    YOUR ANSWER HERE"
      ]
    },
    {
      "cell_type": "markdown",
      "metadata": {
        "id": "Wmj2oYYlAG9t"
      },
      "source": [
        "# Task 5. Bidirectional LSTM "
      ]
    },
    {
      "cell_type": "markdown",
      "metadata": {
        "id": "ivL3qYLXALKo"
      },
      "source": [
        "In this task, you will build a bidirectional LSTM (BiLSTM) model to detect tweets identified as hate speech, and visualize the embedding layer using Tensorboard projector. \n",
        "\n",
        "Why BiLSTM? LSTM, at its core, preserves information from inputs that has already passed through it using the hidden state. Unidirectional LSTM only preserves information of the past because the only inputs it has seen are from the past. BiLSTMs run inputs in both ways, one from past to future and one from future to past and show very good results as they can understand context better [ref](https://stackoverflow.com/questions/43035827/whats-the-difference-between-a-bidirectional-lstm-and-an-lstm)."
      ]
    },
    {
      "cell_type": "markdown",
      "metadata": {
        "id": "8bFkC-qRqHSn"
      },
      "source": [
        "1. Tokenizing and padding. \n",
        "    \n",
        "    As LSTM expects every sentence to be of the same length, in addition to [`Tokenizer`](https://www.tensorflow.org/api_docs/python/tf/keras/preprocessing/text/Tokenizer) with a given number of vocabulary `VOCAB_SIZE`, we need to [pad](https://www.tensorflow.org/api_docs/python/tf/keras/utils/pad_sequences) shorter tweets with 0s until the length is `MAX_LEN` and truncate longer tweets to be exact `MAX_LEN` long. \n",
        "    \n",
        "   Function `tokenize_pad_sequences` is provided except that you need to supply correct `num_words` and `filters`; do NOT filter `#`. \n",
        "   \n",
        "   We feed the processed `tidy_tweet` to `tokenize_pad_sequences`, but one can perform the preprocessing steps in `Tokenizer` and apply it directly on the raw tweets."
      ]
    },
    {
      "cell_type": "code",
      "execution_count": null,
      "metadata": {
        "id": "iC1Q6k3j-5qW"
      },
      "outputs": [],
      "source": [
        "VOCAB_SIZE = 25000  \n",
        "MAX_LEN = 50"
      ]
    },
    {
      "cell_type": "code",
      "execution_count": null,
      "metadata": {
        "id": "S1LG6ZQ7CKKi"
      },
      "outputs": [],
      "source": [
        "import tensorflow as tf\n",
        "from tensorflow import keras\n",
        "\n",
        "from keras.preprocessing.text import Tokenizer\n",
        "from keras.preprocessing.sequence import pad_sequences\n",
        "\n",
        "def tokenize_pad_sequences(text):\n",
        "    '''\n",
        "    tokenize the input text into sequences of integers and then\n",
        "    pad each sequence to the same length\n",
        "    '''\n",
        "    # Text tokenization\n",
        "    tokenizer = Tokenizer(\n",
        "        num_words=# YOUR CODE HERE\n",
        "        filters=# YOUR CODE HERE\n",
        "        lower=True, split=' ', oov_token='oov')\n",
        "    tokenizer.fit_on_texts(text)\n",
        "    # Transforms text to a sequence of integers\n",
        "    X = tokenizer.texts_to_sequences(text)\n",
        "    # Pad sequences to the same length\n",
        "    X = pad_sequences(X, padding='post', maxlen=MAX_LEN)\n",
        "\n",
        "    return X, tokenizer"
      ]
    },
    {
      "cell_type": "code",
      "execution_count": null,
      "metadata": {
        "id": "6MhnJ9nxCNca"
      },
      "outputs": [],
      "source": [
        "print('Before Tokenization & Padding \\n', raw['tidy_tweet'][0])\n",
        "X, tokenizer = tokenize_pad_sequences(raw['tidy_tweet'])\n",
        "print('After Tokenization & Padding \\n', X[0])\n",
        "y = raw['label'].values"
      ]
    },
    {
      "cell_type": "markdown",
      "metadata": {
        "id": "nhG33jJeqHSn"
      },
      "source": [
        "2. Let's split `X` into training and testing datasets, save 25% for testing. \n",
        "Then split training dataset into training and validation datasets, with 20% for validation. \n",
        "Set both `random_state` to be 42. \n",
        "Stratify both splits. "
      ]
    },
    {
      "cell_type": "code",
      "execution_count": null,
      "metadata": {
        "id": "PIdaTdBKCP-2"
      },
      "outputs": [],
      "source": [
        "X_train, X_test, y_train, y_test = train_test_split(\n",
        "    # YOUR CODE HERE\n",
        "    )\n",
        "X_train, X_val, y_train, y_val = train_test_split(\n",
        "    # YOUR CODE HERE\n",
        "    )"
      ]
    },
    {
      "cell_type": "code",
      "execution_count": null,
      "metadata": {
        "id": "G2G5PMwGCcxI"
      },
      "outputs": [],
      "source": [
        "print('Train Set ->', X_train.shape, y_train.shape)\n",
        "print('Validation Set ->', X_val.shape, y_val.shape)\n",
        "print('Test Set ->', X_test.shape, y_test.shape)"
      ]
    },
    {
      "cell_type": "markdown",
      "metadata": {
        "id": "ZmZ2Y9gzqHSn"
      },
      "source": [
        "3. Now build a sequential model:\n",
        "\n",
        "    - an embedding layer\n",
        "    - a bidirectional LSTM with 32 units and set `return_sequences=True` in LSTM\n",
        "    - a global average pooling operation for temporal data\n",
        "    - a dropout layer with 20% rate\n",
        "    - a dense layer of 32 units and set the activation function to be ReLu\n",
        "    - a dense layer of 1 unit and set the proper activation function for classification"
      ]
    },
    {
      "cell_type": "code",
      "execution_count": null,
      "metadata": {
        "id": "yIHXdzW7Che7",
        "scrolled": false
      },
      "outputs": [],
      "source": [
        "from keras.models import Sequential\n",
        "# YOUR CODE HERE (layer imports)\n",
        "\n",
        "EMBEDDING_DIM = 16   \n",
        "model = Sequential([\n",
        "    # YOUR CODE HERE\n",
        "])"
      ]
    },
    {
      "cell_type": "code",
      "execution_count": null,
      "metadata": {
        "id": "bpioKB2AC6aH"
      },
      "outputs": [],
      "source": [
        "model.summary()"
      ]
    },
    {
      "cell_type": "markdown",
      "metadata": {
        "id": "ZjzENFrAqHSo"
      },
      "source": [
        "4. Compile the model. \n",
        "\n",
        "    Fill in a proper loss function and use adam as the optimizer. \n",
        "    For metrics, include precision and recall in the metrics, in addition to accuracy. "
      ]
    },
    {
      "cell_type": "code",
      "execution_count": null,
      "metadata": {
        "id": "RuhniNmJC2AR"
      },
      "outputs": [],
      "source": [
        "from keras.metrics import Precision, Recall\n",
        "model.compile(\n",
        "    loss=# YOUR CODE HERE\n",
        "    optimizer='adam', \n",
        "    metrics=# YOUR CODE HERE]\n",
        "    ) "
      ]
    },
    {
      "cell_type": "markdown",
      "metadata": {
        "id": "hiXFn0OJqHSo"
      },
      "source": [
        "5. Train the model for 10 epochs on training dataset with a  validation set."
      ]
    },
    {
      "cell_type": "code",
      "execution_count": null,
      "metadata": {
        "id": "V1pd8qpIC_BL"
      },
      "outputs": [],
      "source": [
        "EPOCHS=10\n",
        "BATCH_SIZE = 32\n",
        "history = model.fit(X_train, y_train,\n",
        "                    validation_data=# YOUR CODE HERE\n",
        "                    batch_size=BATCH_SIZE, epochs=EPOCHS, verbose=2)"
      ]
    },
    {
      "cell_type": "markdown",
      "metadata": {
        "id": "USmxE6M1qHSo"
      },
      "source": [
        "6. Function `plot_graphs` is provided below to visualize how the performance of model progresses as a function of epoch. \n",
        "\n",
        "    Visualize accuracy and loss. "
      ]
    },
    {
      "cell_type": "code",
      "execution_count": null,
      "metadata": {
        "id": "Z3IuUmpODCz1"
      },
      "outputs": [],
      "source": [
        "def plot_graphs(history, metric):\n",
        "  fig, ax = plt.subplots()\n",
        "  plt.plot(history.history[metric])\n",
        "  plt.plot(history.history['val_'+metric], '')\n",
        "  ax.set_xticks(range(EPOCHS))\n",
        "  plt.xlabel(\"Epochs\")\n",
        "  plt.ylabel(metric)\n",
        "  plt.legend([metric, 'val_'+metric])"
      ]
    },
    {
      "cell_type": "code",
      "execution_count": null,
      "metadata": {
        "id": "dXsbpHwQDNbf"
      },
      "outputs": [],
      "source": [
        "# YOUR CODE HERE"
      ]
    },
    {
      "cell_type": "code",
      "execution_count": null,
      "metadata": {
        "id": "emrqqQacDPFL"
      },
      "outputs": [],
      "source": [
        "# YOUR CODE HERE"
      ]
    },
    {
      "cell_type": "markdown",
      "metadata": {
        "id": "cGE0rR41qHSo"
      },
      "source": [
        "7. The model starts to overfit after a couple of epochs. \n",
        "Consider using [early stopping](https://www.tensorflow.org/api_docs/python/tf/keras/callbacks/EarlyStopping) to stop training when a monitored metric has stopped improving. \n",
        "\n",
        "  What can we do to tame overfitting?\n",
        "\n",
        "    YOUR ANSWER HERE"
      ]
    },
    {
      "cell_type": "markdown",
      "metadata": {
        "id": "bJj8v7mdqHSo"
      },
      "source": [
        "8. Print the classification report of the model on test dataset. "
      ]
    },
    {
      "cell_type": "code",
      "execution_count": null,
      "metadata": {
        "id": "AdobNLdZDT81"
      },
      "outputs": [],
      "source": [
        "# YOUR CODE HERE"
      ]
    },
    {
      "cell_type": "markdown",
      "metadata": {
        "id": "dgfrk6iRqHSo"
      },
      "source": [
        "9. Discuss: how does the BiLSTM model improve the classification over naive Bayes? \n",
        "\n",
        "    YOUR ANSWER HERE"
      ]
    },
    {
      "cell_type": "code",
      "execution_count": null,
      "metadata": {
        "id": "eQ7B-g_fEWYe"
      },
      "outputs": [],
      "source": [
        "# # NB using tf-idf\n",
        "#               precision    recall  f1-score   support\n",
        "\n",
        "#            0       0.96      0.97      0.97      7430\n",
        "#            1       0.55      0.48      0.51       561\n",
        "\n",
        "#     accuracy                           0.94      7991\n",
        "#    macro avg       0.75      0.72      0.74      7991\n",
        "# weighted avg       0.93      0.94      0.93      7991\n",
        "\n",
        "# # NB using word2vec\n",
        "#               precision    recall  f1-score   support\n",
        "\n",
        "#            0       0.98      0.85      0.91      7430\n",
        "#            1       0.29      0.82      0.43       561\n",
        "\n",
        "#     accuracy                           0.85      7991\n",
        "#    macro avg       0.64      0.83      0.67      7991\n",
        "# weighted avg       0.94      0.85      0.88      7991"
      ]
    },
    {
      "cell_type": "markdown",
      "metadata": {
        "id": "pmmJzPMaqHSp"
      },
      "source": [
        "10. Visualize embeddings using [Embedding Projector](https://www.tensorflow.org/tensorboard/tensorboard_projector_plugin) in Tensorboard. \n",
        "The setup for Tensorboard can be tricky, most of the code is provided. \n",
        "\n",
        "    TensorBoard reads tensors and metadata from the logs of your tensorflow projects. \n",
        "    The path to the log directory is specified with log_dir below. \n",
        "    \n",
        "    In order to load the data into Tensorboard, we need to save a training checkpoint to that directory, along with metadata that allows for visualization of a specific layer of interest in the model.\n",
        "\n",
        "    Load the TensorBoard notebook extension and import `projector` from `tensorboard.plugins`."
      ]
    },
    {
      "cell_type": "code",
      "execution_count": null,
      "metadata": {
        "id": "h-Nlj-xPcDcJ"
      },
      "outputs": [],
      "source": [
        "%load_ext tensorboard"
      ]
    },
    {
      "cell_type": "code",
      "execution_count": null,
      "metadata": {
        "id": "hPv_upTPcEB6"
      },
      "outputs": [],
      "source": [
        "from tensorboard.plugins import projector"
      ]
    },
    {
      "cell_type": "markdown",
      "metadata": {
        "id": "O6FqHvlWqHSp"
      },
      "source": [
        "11. Clear any logs from previous runs if any."
      ]
    },
    {
      "cell_type": "code",
      "execution_count": null,
      "metadata": {
        "id": "UFJH2kexhsDW"
      },
      "outputs": [],
      "source": [
        "rm -rf /logs/  "
      ]
    },
    {
      "cell_type": "markdown",
      "metadata": {
        "id": "Ljzn8weFqHSp"
      },
      "source": [
        "12. Set up a logs directory, so Tensorboard knows where to look for data."
      ]
    },
    {
      "cell_type": "code",
      "execution_count": null,
      "metadata": {
        "id": "PNONqOdoeB65"
      },
      "outputs": [],
      "source": [
        "import os\n",
        "log_dir='/logs/tweets-example/'\n",
        "if not os.path.exists(log_dir):\n",
        "    os.makedirs(log_dir)"
      ]
    },
    {
      "cell_type": "markdown",
      "metadata": {
        "id": "9pYgffwFqHSp"
      },
      "source": [
        "13. Save the first `VOCAB_SIZE` most frequent words in the vocabulary as `metadata.tsv`."
      ]
    },
    {
      "cell_type": "code",
      "execution_count": null,
      "metadata": {
        "id": "O7ThVTUleT9o"
      },
      "outputs": [],
      "source": [
        "with open(os.path.join(log_dir, 'metadata.tsv'), \"w\") as f:\n",
        "  i = 0\n",
        "  for label in tokenizer.word_index.keys():\n",
        "    if label == 'oov':\n",
        "      continue # skip oov\n",
        "    f.write(\"{}\\n\".format(label))\n",
        "    if i > VOCAB_SIZE:\n",
        "      break\n",
        "    i += 1"
      ]
    },
    {
      "cell_type": "markdown",
      "metadata": {
        "id": "djoU3-LcqHSp"
      },
      "source": [
        "14. Save the weights we want to analyze as a variable. Note that the first value represents any unknown word, which is not in the metadata, here we will remove this value."
      ]
    },
    {
      "cell_type": "code",
      "execution_count": null,
      "metadata": {
        "id": "GoPzZpeHeZGV"
      },
      "outputs": [],
      "source": [
        "weights = tf.Variable(model.layers[0].get_weights()[0][1:]) # `embeddings` has a shape of (num_vocab, embedding_dim) "
      ]
    },
    {
      "cell_type": "markdown",
      "metadata": {
        "id": "6PfF91UpqHSp"
      },
      "source": [
        "15. Create a checkpoint from embedding, the filename and key are the name of the tensor."
      ]
    },
    {
      "cell_type": "code",
      "execution_count": null,
      "metadata": {
        "id": "uLC5D9PCqHSq"
      },
      "outputs": [],
      "source": [
        "checkpoint = tf.train.Checkpoint(embedding=weights)\n",
        "checkpoint.save(os.path.join(log_dir, \"embedding.ckpt\"))"
      ]
    },
    {
      "cell_type": "markdown",
      "metadata": {
        "id": "NhRQaOPUqHSq"
      },
      "source": [
        "16. Set up config."
      ]
    },
    {
      "cell_type": "code",
      "execution_count": null,
      "metadata": {
        "id": "cH4m0nY7IUFd"
      },
      "outputs": [],
      "source": [
        "config = projector.ProjectorConfig()\n",
        "embedding = config.embeddings.add()"
      ]
    },
    {
      "cell_type": "markdown",
      "metadata": {
        "id": "q_7mVeSHqHSq"
      },
      "source": [
        "17. The name of the tensor will be suffixed by `/.ATTRIBUTES/VARIABLE_VALUE`."
      ]
    },
    {
      "cell_type": "code",
      "execution_count": null,
      "metadata": {
        "id": "LH5DxopZqHSq"
      },
      "outputs": [],
      "source": [
        "embedding.tensor_name = \"embedding/.ATTRIBUTES/VARIABLE_VALUE\"\n",
        "embedding.metadata_path = 'metadata.tsv'\n",
        "projector.visualize_embeddings(log_dir, config)"
      ]
    },
    {
      "cell_type": "markdown",
      "metadata": {
        "id": "Fbk41Eo3qHSq"
      },
      "source": [
        "18. Verify the following files exist under the current directory"
      ]
    },
    {
      "cell_type": "code",
      "execution_count": null,
      "metadata": {
        "id": "p2Cr_8A4hRHq"
      },
      "outputs": [],
      "source": [
        "ls /logs/tweets-example/"
      ]
    },
    {
      "cell_type": "markdown",
      "metadata": {
        "id": "R2iMkZh8qHSq"
      },
      "source": [
        "19. Now run Tensorboard against on log data we just saved. \n",
        "\n",
        "    You may need to run this cell **twice** to see the projector correctly. \n",
        "    Use Chrome for least friction."
      ]
    },
    {
      "cell_type": "code",
      "execution_count": null,
      "metadata": {
        "id": "aQnjWJpSeh1e"
      },
      "outputs": [],
      "source": [
        "%tensorboard --logdir /logs/tweets-example/"
      ]
    },
    {
      "cell_type": "markdown",
      "metadata": {
        "id": "TC52pxQ6pFIP"
      },
      "source": [
        "The TensorBoard Projector can be a great tool for interpreting and visualzing embedding. The dashboard allows users to search for specific terms, and highlights words that are adjacent to each other in the embedding (low-dimensional) space. Try a few word in the Search box and see if the embeddings make sense. "
      ]
    },
    {
      "cell_type": "markdown",
      "metadata": {
        "id": "wRlfqbv5FAgr"
      },
      "source": [
        "# Task 6. Interpretation"
      ]
    },
    {
      "cell_type": "markdown",
      "metadata": {
        "id": "S8Z5epwHqHSr"
      },
      "source": [
        "Lastly let's try to understnad predictions by BiLSTM using a model agnostic approach -- [Local interpretable model-agnostic explanations (LIME)](https://christophm.github.io/interpretable-ml-book/lime.html)\n",
        "\n",
        "1. Import `LimeTextExplainer` from the [`lime_text`](https://lime-ml.readthedocs.io/en/latest/lime.html#module-lime.lime_text) module in package [`lime`](https://github.com/marcotcr/lime)"
      ]
    },
    {
      "cell_type": "code",
      "execution_count": null,
      "metadata": {
        "id": "zve69BHRFDPW"
      },
      "outputs": [],
      "source": [
        "from lime.lime_text import LimeTextExplainer"
      ]
    },
    {
      "cell_type": "markdown",
      "metadata": {
        "id": "OLb9MblAqHSr"
      },
      "source": [
        "2. Create an instance of `LimeTextExplainer`, call it `explanier`. "
      ]
    },
    {
      "cell_type": "code",
      "execution_count": null,
      "metadata": {
        "id": "awkFCv5qFEpt"
      },
      "outputs": [],
      "source": [
        "explainer = LimeTextExplainer(class_names=['no', 'yes'], random_state=2)"
      ]
    },
    {
      "cell_type": "markdown",
      "metadata": {
        "id": "HGB_kjmIqHSr"
      },
      "source": [
        "3. Method `explain_instance` expects the `classifier_fn` to be a function, we provide the function `predict_proba` as below. "
      ]
    },
    {
      "cell_type": "code",
      "execution_count": null,
      "metadata": {
        "id": "fATA1nDYFNCH"
      },
      "outputs": [],
      "source": [
        "def predict_proba(arr):\n",
        "    processed = tokenizer.texts_to_sequences(arr)\n",
        "    processed = pad_sequences(processed, padding='post', maxlen=MAX_LEN)\n",
        "    pred = model.predict(processed)\n",
        "    r = []\n",
        "    for i in pred:\n",
        "        temp = i[0]\n",
        "        r.append(np.array([1-temp,temp])) \n",
        "    return np.array(r)"
      ]
    },
    {
      "cell_type": "markdown",
      "metadata": {
        "id": "EOOET9F0qHSr"
      },
      "source": [
        "4. Read about [`explain_instance`](https://lime-ml.readthedocs.io/en/latest/lime.html#lime.lime_text.LimeTextExplainer.explain_instance). \n",
        "\n",
        "    Create an instance named `exp` to explain the 16399th tidy tweet from the original dataset, i.e., `raw.tidy_tweet.iloc[16399]`. "
      ]
    },
    {
      "cell_type": "code",
      "execution_count": null,
      "metadata": {
        "id": "IlACxediFQb0"
      },
      "outputs": [],
      "source": [
        "idx = 16399 \n",
        "exp = explainer.explain_instance(\n",
        "    # YOUR CODE HERE\n",
        "    num_features=6)\n",
        "exp.show_in_notebook(text=raw.tidy_tweet.iloc[idx])"
      ]
    },
    {
      "cell_type": "markdown",
      "metadata": {
        "id": "6Ts3AF8TqHSr"
      },
      "source": [
        "5. Pick another random tweet and generate explanations for the prediction."
      ]
    },
    {
      "cell_type": "code",
      "execution_count": null,
      "metadata": {
        "id": "2ZqQCxsyFSJY"
      },
      "outputs": [],
      "source": [
        "# YOUR CODE HERE"
      ]
    },
    {
      "cell_type": "markdown",
      "metadata": {
        "id": "SS9n6kkVqHSr"
      },
      "source": [
        "6. Jot down your observations in explaining the model. \n",
        "\n",
        "    YOUR ANSWER HERE"
      ]
    },
    {
      "cell_type": "markdown",
      "metadata": {
        "id": "i1DXyQkTz50O"
      },
      "source": [
        "# Acknowledgement & Reference"
      ]
    },
    {
      "cell_type": "markdown",
      "metadata": {
        "id": "BnrR8TmJz8AM"
      },
      "source": [
        "- Data is adapted from [Twitter sentiment analysis](https://datahack.analyticsvidhya.com/contest/practice-problem-twitter-sentiment-analysis/#ProblemStatement)\n",
        "- [Twitter sentiment analysis](https://github.com/prateekjoshi565/twitter_sentiment_analysis/blob/master/code_sentiment_analysis.ipynb) \n",
        "- [Introduction to Word Embedding and Word2Vec](https://towardsdatascience.com/introduction-to-word-embedding-and-word2vec-652d0c2060fa)\n",
        "- [When to use GRU over LSTM?](https://datascience.stackexchange.com/questions/14581/when-to-use-gru-over-lstm)\n",
        "- Use a trained Word2Vec, Doc2Vec or FastTest embedding by `gensim` in buiding an embedding layers in Tensorflow, here's [how-to](https://github.com/RaRe-Technologies/gensim/wiki/Using-Gensim-Embeddings-with-Keras-and-Tensorflow)."
      ]
    }
  ],
  "metadata": {
    "accelerator": "GPU",
    "colab": {
      "provenance": []
    },
    "gpuClass": "standard",
    "kernelspec": {
      "display_name": "Python 3.9.14 64-bit",
      "language": "python",
      "name": "python3"
    },
    "language_info": {
      "codemirror_mode": {
        "name": "ipython",
        "version": 3
      },
      "file_extension": ".py",
      "mimetype": "text/x-python",
      "name": "python",
      "nbconvert_exporter": "python",
      "pygments_lexer": "ipython3",
      "version": "3.9.14"
    },
    "toc": {
      "base_numbering": 1,
      "nav_menu": {},
      "number_sections": true,
      "sideBar": true,
      "skip_h1_title": false,
      "title_cell": "Table of Contents",
      "title_sidebar": "Contents",
      "toc_cell": false,
      "toc_position": {},
      "toc_section_display": true,
      "toc_window_display": true
    },
    "vscode": {
      "interpreter": {
        "hash": "a665b5d41d17b532ea9890333293a1b812fa0b73c9c25c950b3cedf1bebd0438"
      }
    }
  },
  "nbformat": 4,
  "nbformat_minor": 0
}