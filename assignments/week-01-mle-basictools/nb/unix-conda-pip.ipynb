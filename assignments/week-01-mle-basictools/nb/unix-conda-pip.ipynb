{
 "cells": [
  {
   "cell_type": "markdown",
   "id": "399f6d9e",
   "metadata": {},
   "source": [
    "# Unix - Conda - Pip"
   ]
  },
  {
   "cell_type": "markdown",
   "id": "ef16b651",
   "metadata": {},
   "source": [
    "We run commands in CLI, e.g., Terminal, but here we are using Jupyter Notebook to demonstrate:\n",
    "\n",
    "1. Output from commands\n",
    "2. That when experiementing or developing programs in the notebook, you can avoid switching tools.\n",
    "3. That you can install pacakges in the beginning of the notebook (e.g., Sagemaker) so it's clear what packages are used."
   ]
  },
  {
   "cell_type": "markdown",
   "id": "944d1a51",
   "metadata": {},
   "source": [
    "## Unix commands"
   ]
  },
  {
   "cell_type": "markdown",
   "id": "f70f6301",
   "metadata": {},
   "source": [
    "### Basics"
   ]
  },
  {
   "cell_type": "markdown",
   "id": "a32b0652",
   "metadata": {},
   "source": [
    "For some of the basic commands, you can run use the cell to run it directly:"
   ]
  },
  {
   "cell_type": "code",
   "execution_count": 2,
   "id": "001e8c71",
   "metadata": {},
   "outputs": [
    {
     "data": {
      "text/plain": [
       "'/home/tfarotimi/Fourth Brain Projects/Tope-Farotimi-MLE/assignments/week-01-mle-basictools/nb'"
      ]
     },
     "execution_count": 2,
     "metadata": {},
     "output_type": "execute_result"
    }
   ],
   "source": [
    "pwd # print working directory"
   ]
  },
  {
   "cell_type": "markdown",
   "id": "00bf36c2",
   "metadata": {},
   "source": [
    "You always want to know \"where you are\" and how to look for help. Use `man` to display the user manual of any command that we can run on the terminal. "
   ]
  },
  {
   "cell_type": "code",
   "execution_count": 3,
   "id": "0e1d0b83",
   "metadata": {},
   "outputs": [
    {
     "name": "stdout",
     "output_type": "stream",
     "text": [
      "PWD(1)                    User Commands                   PWD(1)\n",
      "\n",
      "NAME\n",
      "       pwd - print name of current/working directory\n",
      "\n",
      "SYNOPSIS\n",
      "       pwd [OPTION]...\n",
      "\n",
      "DESCRIPTION\n",
      "       Print the full filename of the current working directory.\n",
      "\n",
      "       -L, --logical\n",
      "              use PWD from environment, even if it contains sym‐\n",
      "              links\n",
      "\n",
      "       -P, --physical\n",
      "              avoid all symlinks\n",
      "\n",
      "       --help display this help and exit\n",
      "\n",
      "       --version\n",
      "              output version information and exit\n",
      "\n",
      "       If no option is specified, -P is assumed.\n",
      "\n",
      "       NOTE: your shell may have its own version of  pwd,  which\n",
      "       usually  supersedes  the  version described here.  Please\n",
      "       refer to your shell's documentation for details about the\n",
      "       options it supports.\n",
      "\n",
      "AUTHOR\n",
      "       Written by Jim Meyering.\n",
      "\n",
      "REPORTING BUGS\n",
      "       GNU  coreutils  online  help:  <https://www.gnu.org/soft‐\n",
      "       ware/coreutils/>\n",
      "       Report any translation bugs  to  <https://translationpro‐\n",
      "       ject.org/team/>\n",
      "\n",
      "COPYRIGHT\n",
      "       Copyright  © 2020 Free Software Foundation, Inc.  License\n",
      "       GPLv3+: GNU GPL version 3 or  later  <https://gnu.org/li‐\n",
      "       censes/gpl.html>.\n",
      "       This  is free software: you are free to change and redis‐\n",
      "       tribute it.  There is NO WARRANTY, to the extent  permit‐\n",
      "       ted by law.\n",
      "\n",
      "SEE ALSO\n",
      "       getcwd(3)\n",
      "\n",
      "       Full   documentation  <https://www.gnu.org/software/core‐\n",
      "       utils/pwd>\n",
      "       or available locally via: info '(coreutils)  pwd  invoca‐\n",
      "       tion'\n",
      "\n",
      "GNU coreutils 8.32       February 2022                   PWD(1)\n"
     ]
    }
   ],
   "source": [
    "man pwd # press ESC to exit"
   ]
  },
  {
   "cell_type": "markdown",
   "id": "5a2b554f",
   "metadata": {},
   "source": [
    "Further, cell magic `%%bash` turns a cell into a bash script where you can run multiple lines (See more cell/line magics [here](https://ipython.readthedocs.io/en/stable/interactive/magics.html)). "
   ]
  },
  {
   "cell_type": "code",
   "execution_count": 4,
   "id": "a0641721",
   "metadata": {},
   "outputs": [
    {
     "name": "stdout",
     "output_type": "stream",
     "text": [
      "/home/tfarotimi/Fourth Brain Projects/Tope-Farotimi-MLE/assignments/week-01-mle-basictools/nb\n",
      "total 48K\n",
      "drwxr-xr-x 2 tfarotimi tfarotimi 4.0K Dec  6 23:19 .\n",
      "drwxr-xr-x 6 tfarotimi tfarotimi 4.0K Dec  6 23:19 ..\n",
      "-rw-r--r-- 1 tfarotimi tfarotimi  37K Dec  6 23:19 unix-conda-pip.ipynb\n"
     ]
    }
   ],
   "source": [
    "%%bash\n",
    "pwd\n",
    "ls -lah # WE DO: What are those flags for?"
   ]
  },
  {
   "cell_type": "markdown",
   "id": "4d5a8316",
   "metadata": {},
   "source": [
    "### Download a data file"
   ]
  },
  {
   "cell_type": "markdown",
   "id": "71675d92",
   "metadata": {},
   "source": [
    "Let's download some data from [Census Income Data Set](https://archive.ics.uci.edu/ml/datasets/Census+Income); but first we would like to make a new directory to store the data at the same level as `nb` directory."
   ]
  },
  {
   "cell_type": "code",
   "execution_count": 5,
   "id": "3b75c995",
   "metadata": {},
   "outputs": [],
   "source": [
    "%%bash\n",
    "cd ..\n",
    "# WE DO: make a new diretory called `dat` under the project root directory\n"
   ]
  },
  {
   "cell_type": "markdown",
   "id": "8e4f5671",
   "metadata": {},
   "source": [
    "Let's confirm that we just created an empty directory `dat` using command `tree`. Not all command can be run in the cell directly, adding ! in front of command can do the trick:"
   ]
  },
  {
   "cell_type": "code",
   "execution_count": 6,
   "id": "0a31b61f",
   "metadata": {},
   "outputs": [
    {
     "name": "stdout",
     "output_type": "stream",
     "text": [
      "\u001b[01;34m..\u001b[0m\n",
      "├── README.md\n",
      "├── \u001b[01;34mdat\u001b[0m\n",
      "│   └── adult.csv\n",
      "├── \u001b[01;34mmd\u001b[0m\n",
      "│   └── git-more.md\n",
      "├── \u001b[01;34mnb\u001b[0m\n",
      "│   └── unix-conda-pip.ipynb\n",
      "└── \u001b[01;34mpandas-sklearn-basics\u001b[0m\n",
      "    └── pandas-sklearn-basics.ipynb\n",
      "\n",
      "4 directories, 5 files\n"
     ]
    }
   ],
   "source": [
    "!tree .. -L 2"
   ]
  },
  {
   "cell_type": "code",
   "execution_count": 7,
   "id": "273eed2c",
   "metadata": {},
   "outputs": [
    {
     "name": "stdout",
     "output_type": "stream",
     "text": [
      "--2022-12-07 02:06:40--  https://archive.ics.uci.edu/ml/machine-learning-databases/adult/adult.data\n",
      "Resolving archive.ics.uci.edu (archive.ics.uci.edu)... 128.195.10.252\n",
      "Connecting to archive.ics.uci.edu (archive.ics.uci.edu)|128.195.10.252|:443... connected.\n",
      "HTTP request sent, awaiting response... 200 OK\n",
      "Length: 3974305 (3.8M) [application/x-httpd-php]\n",
      "Saving to: ‘../dat/adult.csv’\n",
      "\n",
      "../dat/adult.csv    100%[===================>]   3.79M   777KB/s    in 5.0s    \n",
      "\n",
      "2022-12-07 02:06:47 (777 KB/s) - ‘../dat/adult.csv’ saved [3974305/3974305]\n",
      "\n"
     ]
    }
   ],
   "source": [
    "# download a csv file\n",
    "!wget https://archive.ics.uci.edu/ml/machine-learning-databases/adult/adult.data -O ../dat/adult.csv"
   ]
  },
  {
   "cell_type": "code",
   "execution_count": 8,
   "id": "d45bd2fd",
   "metadata": {},
   "outputs": [
    {
     "name": "stdout",
     "output_type": "stream",
     "text": [
      "\u001b[01;34m..\u001b[0m\n",
      "├── README.md\n",
      "├── \u001b[01;34mdat\u001b[0m\n",
      "│   └── adult.csv\n",
      "├── \u001b[01;34mmd\u001b[0m\n",
      "│   └── git-more.md\n",
      "├── \u001b[01;34mnb\u001b[0m\n",
      "│   └── unix-conda-pip.ipynb\n",
      "└── \u001b[01;34mpandas-sklearn-basics\u001b[0m\n",
      "    └── pandas-sklearn-basics.ipynb\n",
      "\n",
      "4 directories, 5 files\n"
     ]
    }
   ],
   "source": [
    "!tree .. -L 2 # check again"
   ]
  },
  {
   "cell_type": "markdown",
   "id": "d1c3ad4c",
   "metadata": {},
   "source": [
    "### Inspect data"
   ]
  },
  {
   "cell_type": "markdown",
   "id": "a17d9ad5",
   "metadata": {},
   "source": [
    "Let's inspect first 10 lines of data:"
   ]
  },
  {
   "cell_type": "code",
   "execution_count": 9,
   "id": "4b397608",
   "metadata": {},
   "outputs": [
    {
     "name": "stdout",
     "output_type": "stream",
     "text": [
      "39, State-gov, 77516, Bachelors, 13, Never-married, Adm-clerical, Not-in-family, White, Male, 2174, 0, 40, United-States, <=50K\n",
      "50, Self-emp-not-inc, 83311, Bachelors, 13, Married-civ-spouse, Exec-managerial, Husband, White, Male, 0, 0, 13, United-States, <=50K\n",
      "38, Private, 215646, HS-grad, 9, Divorced, Handlers-cleaners, Not-in-family, White, Male, 0, 0, 40, United-States, <=50K\n",
      "53, Private, 234721, 11th, 7, Married-civ-spouse, Handlers-cleaners, Husband, Black, Male, 0, 0, 40, United-States, <=50K\n",
      "28, Private, 338409, Bachelors, 13, Married-civ-spouse, Prof-specialty, Wife, Black, Female, 0, 0, 40, Cuba, <=50K\n",
      "37, Private, 284582, Masters, 14, Married-civ-spouse, Exec-managerial, Wife, White, Female, 0, 0, 40, United-States, <=50K\n",
      "49, Private, 160187, 9th, 5, Married-spouse-absent, Other-service, Not-in-family, Black, Female, 0, 0, 16, Jamaica, <=50K\n",
      "52, Self-emp-not-inc, 209642, HS-grad, 9, Married-civ-spouse, Exec-managerial, Husband, White, Male, 0, 0, 45, United-States, >50K\n",
      "31, Private, 45781, Masters, 14, Never-married, Prof-specialty, Not-in-family, White, Female, 14084, 0, 50, United-States, >50K\n",
      "42, Private, 159449, Bachelors, 13, Married-civ-spouse, Exec-managerial, Husband, White, Male, 5178, 0, 40, United-States, >50K\n"
     ]
    }
   ],
   "source": [
    "!head ../dat/adult.csv"
   ]
  },
  {
   "cell_type": "markdown",
   "id": "17f5a9f0",
   "metadata": {},
   "source": [
    "How about the last 3 lines? ( wait, I only see 2 lines. what's wrong? ) "
   ]
  },
  {
   "cell_type": "code",
   "execution_count": 10,
   "id": "c59382eb",
   "metadata": {},
   "outputs": [
    {
     "name": "stdout",
     "output_type": "stream",
     "text": [
      "22, Private, 201490, HS-grad, 9, Never-married, Adm-clerical, Own-child, White, Male, 0, 0, 20, United-States, <=50K\n",
      "52, Self-emp-inc, 287927, HS-grad, 9, Married-civ-spouse, Exec-managerial, Wife, White, Female, 15024, 0, 40, United-States, >50K\n",
      "\n"
     ]
    }
   ],
   "source": [
    "!tail -n 3 ../dat/adult.csv"
   ]
  },
  {
   "cell_type": "markdown",
   "id": "93d8f299",
   "metadata": {},
   "source": [
    "How many records are there?"
   ]
  },
  {
   "cell_type": "code",
   "execution_count": 11,
   "id": "ff9852aa",
   "metadata": {},
   "outputs": [
    {
     "name": "stdout",
     "output_type": "stream",
     "text": [
      "32562 ../dat/adult.csv\n"
     ]
    }
   ],
   "source": [
    "!wc -l ../dat/adult.csv"
   ]
  },
  {
   "cell_type": "markdown",
   "id": "422009f8",
   "metadata": {},
   "source": [
    "Challenge: how many columns are there?"
   ]
  },
  {
   "cell_type": "code",
   "execution_count": 12,
   "id": "195b5b57",
   "metadata": {},
   "outputs": [
    {
     "name": "stdout",
     "output_type": "stream",
     "text": [
      "15\n"
     ]
    }
   ],
   "source": [
    "!head -1 ../dat/adult.csv | sed 's/[^,]//g' | wc -c"
   ]
  },
  {
   "cell_type": "markdown",
   "id": "e52d18e0",
   "metadata": {},
   "source": [
    "## Conda: environment manager + package manager"
   ]
  },
  {
   "cell_type": "markdown",
   "id": "8fec4699",
   "metadata": {},
   "source": [
    "You might have heard about Anaconda / Miniconda / Miniforge:"
   ]
  },
  {
   "cell_type": "markdown",
   "id": "70b40550",
   "metadata": {},
   "source": [
    "- What is the difference between `conda` and `miniconda`? [An answer](https://stackoverflow.com/questions/45421163/anaconda-vs-miniconda).\n",
    "- What is the difference between `miniconda` and `miniforge`? [An answer](https://stackoverflow.com/questions/60532678/what-is-the-difference-between-miniconda-and-miniforge).\n",
    "\n",
    "Though Conda is considered both a package manager and an environment manager, we  focus on using it as the environment manager, and use `pip` as the package manager."
   ]
  },
  {
   "cell_type": "markdown",
   "id": "fa2f0973",
   "metadata": {},
   "source": [
    "### Installation"
   ]
  },
  {
   "cell_type": "markdown",
   "id": "aef39f0a",
   "metadata": {},
   "source": [
    "First, install `miniconda` (Feel free to skip if you have already installed it, or any flavor of conda).\n",
    "\n",
    "Run the following commands in terminal to download the lastest Miniconda distribution and install it (Mac Intel Book). \n",
    "\n",
    "    ```\n",
    "    cd ~\n",
    "    wget https://repo.anaconda.com/miniconda/Miniconda3-latest-MacOSX-x86_64.sh\n",
    "    bash Miniconda3-latest-MacOSX-x86_64.sh\n",
    "    ```\n",
    "\n",
    "For M1 chip, install `miniforge` instead. If you are new to `brew`, following instructions [here](https://brew.sh) to install Homebrew first:\n",
    "\n",
    "    ```\n",
    "    brew install miniforge\n",
    "    ```\n",
    "\n",
    "Outputs from these installations are rather long, so we ask you to run it in a terminal window instead."
   ]
  },
  {
   "cell_type": "markdown",
   "id": "4ac65956",
   "metadata": {},
   "source": [
    "Confirm that the installation is successful:"
   ]
  },
  {
   "cell_type": "code",
   "execution_count": 13,
   "id": "f8a10e9d",
   "metadata": {},
   "outputs": [
    {
     "name": "stdout",
     "output_type": "stream",
     "text": [
      "/home/tfarotimi/anaconda3/condabin/conda\n",
      "conda 4.10.3\n",
      "/home/tfarotimi/anaconda3/envs/mlops-course/bin/python\n",
      "Python 3.8.15\n"
     ]
    }
   ],
   "source": [
    "%%bash\n",
    "which conda  # where the executable conda is in my path?\n",
    "conda -V     # which version of conda?\n",
    "which python # where the executable python is in my path?\n",
    "python -V    # what version of python?"
   ]
  },
  {
   "cell_type": "markdown",
   "id": "a6331b4b",
   "metadata": {},
   "source": [
    "### Create a new env"
   ]
  },
  {
   "cell_type": "markdown",
   "id": "b25f1463",
   "metadata": {},
   "source": [
    "Create a new conda environment named `py39_12` where you specify a python version to be 3.9.12. Note the last flag `--yes` to skip the confirmation prompt."
   ]
  },
  {
   "cell_type": "code",
   "execution_count": 14,
   "id": "212568f0",
   "metadata": {},
   "outputs": [
    {
     "name": "stdout",
     "output_type": "stream",
     "text": [
      "\n",
      "CondaValueError: prefix already exists: /home/tfarotimi/anaconda3/envs/py39_12\n",
      "\n"
     ]
    }
   ],
   "source": [
    "!conda create --name py39_12 python=3.9.12 --yes"
   ]
  },
  {
   "cell_type": "code",
   "execution_count": 16,
   "id": "d0bd2f20",
   "metadata": {},
   "outputs": [
    {
     "name": "stdout",
     "output_type": "stream",
     "text": [
      "# conda environments:\n",
      "#\n",
      "base                     /home/tfarotimi/anaconda3\n",
      "mlops-course          *  /home/tfarotimi/anaconda3/envs/mlops-course\n",
      "\n"
     ]
    }
   ],
   "source": [
    "# YOU CODE HERE \n",
    "# list all environments in conda\n",
    "!conda env list"
   ]
  },
  {
   "cell_type": "code",
   "execution_count": null,
   "id": "c0b19bea",
   "metadata": {},
   "outputs": [],
   "source": []
  },
  {
   "cell_type": "markdown",
   "id": "a1efee8c",
   "metadata": {},
   "source": [
    "You shall see something like this:\n",
    "```\n",
    "# conda environments:\n",
    "#\n",
    "                         /Users/flora/miniforge3\n",
    "                         /Users/flora/miniforge3/envs/tf38\n",
    "base                  *  /usr/local/Caskroom/miniforge/base\n",
    "py39                     /usr/local/Caskroom/miniforge/base/envs/py39\n",
    "py39_12                  /usr/local/Caskroom/miniforge/base/envs/py39_12\n",
    "```"
   ]
  },
  {
   "cell_type": "markdown",
   "id": "a669545e",
   "metadata": {},
   "source": [
    "### Activate an env"
   ]
  },
  {
   "cell_type": "markdown",
   "id": "46aefe99",
   "metadata": {},
   "source": [
    "By default, you are under the `base` environment, to activate the new environement, run `conda activate py39_12` in terminal.\n",
    "\n",
    "If you are using VS code, click on the top right button to switch python kernel. You will be prompted to install `ipykernel`, follow the instructions to install the package. Or you can run `source activate`, followed by \n",
    "`conda activate /usr/local/Caskroom/miniforge/base/envs/py39_12` in a cell. \n",
    "\n",
    "If you are using jupyter notebook on a localhost (by defaut 8888), you can restart the jupyter notebook after activating the new environment.\n",
    "\n",
    "Now verify the python version:"
   ]
  },
  {
   "cell_type": "code",
   "execution_count": 17,
   "id": "265f7506",
   "metadata": {},
   "outputs": [
    {
     "name": "stdout",
     "output_type": "stream",
     "text": [
      "Python 3.8.15\n",
      "/home/tfarotimi/anaconda3/envs/mlops-course/bin/python\n",
      "# conda environments:\n",
      "#\n",
      "base                     /home/tfarotimi/anaconda3\n",
      "mlops-course          *  /home/tfarotimi/anaconda3/envs/mlops-course\n",
      "\n"
     ]
    }
   ],
   "source": [
    "%%bash\n",
    "\n",
    "python --version\n",
    "which python\n",
    "conda env list"
   ]
  },
  {
   "cell_type": "markdown",
   "id": "08985441",
   "metadata": {},
   "source": [
    "<details>\n",
    "<summary>Click to see how to add the Conda env to you jupyter notebook kernels</summary>\n",
    "\n",
    "```\n",
    "pip install ipykernel\n",
    "python -m ipykernel install --user --name=py39_12\n",
    "```\n",
    "\n",
    "Next time you launch jupyter notebook, you will see `py39_12` as an option under Kernel/Change kernel.\n",
    "</details>\n",
    "\n",
    "\n"
   ]
  },
  {
   "cell_type": "markdown",
   "id": "bfc622f5",
   "metadata": {},
   "source": [
    "### Delete an env"
   ]
  },
  {
   "cell_type": "markdown",
   "id": "99ecb107",
   "metadata": {},
   "source": [
    "To keep a lean list of environments, we want to prune unused environements from time to time. Simply do the following\n",
    "```\n",
    "conda remove --name old_env --all --yes\n",
    "```"
   ]
  },
  {
   "cell_type": "markdown",
   "id": "8f3e11d0",
   "metadata": {},
   "source": [
    "## Pip: python package manager"
   ]
  },
  {
   "cell_type": "markdown",
   "id": "6e2dc9e0",
   "metadata": {},
   "source": [
    "We recommend to use pip as your python package installer/manager [(fun read on pip vs conda.)](https://stackoverflow.com/questions/20994716/what-is-the-difference-between-pip-and-conda) Note you don't have install pip explictly since it was done during the installation of miniconda/miniforge. "
   ]
  },
  {
   "cell_type": "code",
   "execution_count": 18,
   "id": "ac8585e9",
   "metadata": {},
   "outputs": [
    {
     "name": "stdout",
     "output_type": "stream",
     "text": [
      "/home/tfarotimi/anaconda3/envs/mlops-course/bin/pip\n"
     ]
    }
   ],
   "source": [
    "!which pip"
   ]
  },
  {
   "cell_type": "markdown",
   "id": "df4b9751",
   "metadata": {},
   "source": [
    "### Install package"
   ]
  },
  {
   "cell_type": "markdown",
   "id": "8913690d",
   "metadata": {},
   "source": [
    "We can certainly run `pip` commands the same way as earlier. Just for fun, let's try Jupyter line magic `%pip`. \n",
    "\n",
    "First make sure that we would like to have the most recent version of `pip` installed."
   ]
  },
  {
   "cell_type": "code",
   "execution_count": 19,
   "id": "f10cab48",
   "metadata": {},
   "outputs": [
    {
     "name": "stdout",
     "output_type": "stream",
     "text": [
      "Requirement already satisfied: pip in /home/tfarotimi/anaconda3/envs/mlops-course/lib/python3.8/site-packages (22.2.2)\n",
      "Collecting pip\n",
      "  Downloading pip-22.3.1-py3-none-any.whl (2.1 MB)\n",
      "\u001b[2K     \u001b[90m━━━━━━━━━━━━━━━━━━━━━━━━━━━━━━━━━━━━━━━━\u001b[0m \u001b[32m2.1/2.1 MB\u001b[0m \u001b[31m597.6 kB/s\u001b[0m eta \u001b[36m0:00:00\u001b[0m00:01\u001b[0m00:01\u001b[0m\n",
      "\u001b[?25hInstalling collected packages: pip\n",
      "  Attempting uninstall: pip\n",
      "    Found existing installation: pip 22.2.2\n",
      "    Uninstalling pip-22.2.2:\n",
      "      Successfully uninstalled pip-22.2.2\n",
      "Successfully installed pip-22.3.1\n",
      "Note: you may need to restart the kernel to use updated packages.\n"
     ]
    }
   ],
   "source": [
    "%pip install --upgrade pip"
   ]
  },
  {
   "cell_type": "code",
   "execution_count": 1,
   "id": "6f5a19b8",
   "metadata": {},
   "outputs": [],
   "source": [
    "#%pip install seaborn\n",
    "\n",
    "import seaborn as sns"
   ]
  },
  {
   "cell_type": "markdown",
   "id": "b23b1338",
   "metadata": {},
   "source": [
    "Now you can use these packages:"
   ]
  },
  {
   "cell_type": "code",
   "execution_count": 2,
   "id": "5e863b17",
   "metadata": {},
   "outputs": [],
   "source": [
    "# allow multiple outputs in a single cell\n",
    "from IPython.core.interactiveshell import InteractiveShell\n",
    "InteractiveShell.ast_node_interactivity = \"all\""
   ]
  },
  {
   "cell_type": "code",
   "execution_count": 10,
   "id": "88f533d8",
   "metadata": {},
   "outputs": [
    {
     "data": {
      "text/plain": [
       "(10,)"
      ]
     },
     "execution_count": 10,
     "metadata": {},
     "output_type": "execute_result"
    },
    {
     "data": {
      "text/plain": [
       "array([0.21565212, 0.37028688, 0.29106468, 0.3098387 , 0.0808734 ,\n",
       "       0.89297847, 0.6864952 , 0.22027712, 0.11152747, 0.78917778])"
      ]
     },
     "execution_count": 10,
     "metadata": {},
     "output_type": "execute_result"
    },
    {
     "data": {
      "text/plain": [
       "array([[0.21565212, 0.37028688],\n",
       "       [0.29106468, 0.3098387 ],\n",
       "       [0.0808734 , 0.89297847],\n",
       "       [0.6864952 , 0.22027712],\n",
       "       [0.11152747, 0.78917778]])"
      ]
     },
     "execution_count": 10,
     "metadata": {},
     "output_type": "execute_result"
    }
   ],
   "source": [
    "import numpy as np\n",
    "\n",
    "# create a numpy array with random numbers\n",
    "x = np.random.rand(10)\n",
    "x.shape\n",
    "x\n",
    "x.reshape((5,-1))\n"
   ]
  },
  {
   "cell_type": "code",
   "execution_count": 11,
   "id": "77844449",
   "metadata": {},
   "outputs": [
    {
     "data": {
      "text/plain": [
       "'%.3f'"
      ]
     },
     "execution_count": 11,
     "metadata": {},
     "output_type": "execute_result"
    },
    {
     "data": {
      "text/plain": [
       "array([[0.216, 0.37 ],\n",
       "       [0.291, 0.31 ],\n",
       "       [0.081, 0.893],\n",
       "       [0.686, 0.22 ],\n",
       "       [0.112, 0.789]])"
      ]
     },
     "execution_count": 11,
     "metadata": {},
     "output_type": "execute_result"
    }
   ],
   "source": [
    "%precision 3\n",
    "x.reshape((5,-1))"
   ]
  },
  {
   "cell_type": "code",
   "execution_count": 12,
   "id": "c3777c14",
   "metadata": {},
   "outputs": [
    {
     "data": {
      "text/html": [
       "<div>\n",
       "<style scoped>\n",
       "    .dataframe tbody tr th:only-of-type {\n",
       "        vertical-align: middle;\n",
       "    }\n",
       "\n",
       "    .dataframe tbody tr th {\n",
       "        vertical-align: top;\n",
       "    }\n",
       "\n",
       "    .dataframe thead th {\n",
       "        text-align: right;\n",
       "    }\n",
       "</style>\n",
       "<table border=\"1\" class=\"dataframe\">\n",
       "  <thead>\n",
       "    <tr style=\"text-align: right;\">\n",
       "      <th></th>\n",
       "      <th>0</th>\n",
       "      <th>1</th>\n",
       "      <th>2</th>\n",
       "      <th>3</th>\n",
       "      <th>4</th>\n",
       "      <th>5</th>\n",
       "      <th>6</th>\n",
       "      <th>7</th>\n",
       "      <th>8</th>\n",
       "      <th>9</th>\n",
       "      <th>10</th>\n",
       "      <th>11</th>\n",
       "      <th>12</th>\n",
       "      <th>13</th>\n",
       "      <th>14</th>\n",
       "    </tr>\n",
       "  </thead>\n",
       "  <tbody>\n",
       "    <tr>\n",
       "      <th>0</th>\n",
       "      <td>39</td>\n",
       "      <td>State-gov</td>\n",
       "      <td>77516</td>\n",
       "      <td>Bachelors</td>\n",
       "      <td>13</td>\n",
       "      <td>Never-married</td>\n",
       "      <td>Adm-clerical</td>\n",
       "      <td>Not-in-family</td>\n",
       "      <td>White</td>\n",
       "      <td>Male</td>\n",
       "      <td>2174</td>\n",
       "      <td>0</td>\n",
       "      <td>40</td>\n",
       "      <td>United-States</td>\n",
       "      <td>&lt;=50K</td>\n",
       "    </tr>\n",
       "    <tr>\n",
       "      <th>1</th>\n",
       "      <td>50</td>\n",
       "      <td>Self-emp-not-inc</td>\n",
       "      <td>83311</td>\n",
       "      <td>Bachelors</td>\n",
       "      <td>13</td>\n",
       "      <td>Married-civ-spouse</td>\n",
       "      <td>Exec-managerial</td>\n",
       "      <td>Husband</td>\n",
       "      <td>White</td>\n",
       "      <td>Male</td>\n",
       "      <td>0</td>\n",
       "      <td>0</td>\n",
       "      <td>13</td>\n",
       "      <td>United-States</td>\n",
       "      <td>&lt;=50K</td>\n",
       "    </tr>\n",
       "    <tr>\n",
       "      <th>2</th>\n",
       "      <td>38</td>\n",
       "      <td>Private</td>\n",
       "      <td>215646</td>\n",
       "      <td>HS-grad</td>\n",
       "      <td>9</td>\n",
       "      <td>Divorced</td>\n",
       "      <td>Handlers-cleaners</td>\n",
       "      <td>Not-in-family</td>\n",
       "      <td>White</td>\n",
       "      <td>Male</td>\n",
       "      <td>0</td>\n",
       "      <td>0</td>\n",
       "      <td>40</td>\n",
       "      <td>United-States</td>\n",
       "      <td>&lt;=50K</td>\n",
       "    </tr>\n",
       "    <tr>\n",
       "      <th>3</th>\n",
       "      <td>53</td>\n",
       "      <td>Private</td>\n",
       "      <td>234721</td>\n",
       "      <td>11th</td>\n",
       "      <td>7</td>\n",
       "      <td>Married-civ-spouse</td>\n",
       "      <td>Handlers-cleaners</td>\n",
       "      <td>Husband</td>\n",
       "      <td>Black</td>\n",
       "      <td>Male</td>\n",
       "      <td>0</td>\n",
       "      <td>0</td>\n",
       "      <td>40</td>\n",
       "      <td>United-States</td>\n",
       "      <td>&lt;=50K</td>\n",
       "    </tr>\n",
       "    <tr>\n",
       "      <th>4</th>\n",
       "      <td>28</td>\n",
       "      <td>Private</td>\n",
       "      <td>338409</td>\n",
       "      <td>Bachelors</td>\n",
       "      <td>13</td>\n",
       "      <td>Married-civ-spouse</td>\n",
       "      <td>Prof-specialty</td>\n",
       "      <td>Wife</td>\n",
       "      <td>Black</td>\n",
       "      <td>Female</td>\n",
       "      <td>0</td>\n",
       "      <td>0</td>\n",
       "      <td>40</td>\n",
       "      <td>Cuba</td>\n",
       "      <td>&lt;=50K</td>\n",
       "    </tr>\n",
       "  </tbody>\n",
       "</table>\n",
       "</div>"
      ],
      "text/plain": [
       "   0                  1       2           3   4                    5   \\\n",
       "0  39          State-gov   77516   Bachelors  13        Never-married   \n",
       "1  50   Self-emp-not-inc   83311   Bachelors  13   Married-civ-spouse   \n",
       "2  38            Private  215646     HS-grad   9             Divorced   \n",
       "3  53            Private  234721        11th   7   Married-civ-spouse   \n",
       "4  28            Private  338409   Bachelors  13   Married-civ-spouse   \n",
       "\n",
       "                   6               7       8        9     10  11  12  \\\n",
       "0        Adm-clerical   Not-in-family   White     Male  2174   0  40   \n",
       "1     Exec-managerial         Husband   White     Male     0   0  13   \n",
       "2   Handlers-cleaners   Not-in-family   White     Male     0   0  40   \n",
       "3   Handlers-cleaners         Husband   Black     Male     0   0  40   \n",
       "4      Prof-specialty            Wife   Black   Female     0   0  40   \n",
       "\n",
       "               13      14  \n",
       "0   United-States   <=50K  \n",
       "1   United-States   <=50K  \n",
       "2   United-States   <=50K  \n",
       "3   United-States   <=50K  \n",
       "4            Cuba   <=50K  "
      ]
     },
     "execution_count": 12,
     "metadata": {},
     "output_type": "execute_result"
    },
    {
     "data": {
      "text/html": [
       "<div>\n",
       "<style scoped>\n",
       "    .dataframe tbody tr th:only-of-type {\n",
       "        vertical-align: middle;\n",
       "    }\n",
       "\n",
       "    .dataframe tbody tr th {\n",
       "        vertical-align: top;\n",
       "    }\n",
       "\n",
       "    .dataframe thead th {\n",
       "        text-align: right;\n",
       "    }\n",
       "</style>\n",
       "<table border=\"1\" class=\"dataframe\">\n",
       "  <thead>\n",
       "    <tr style=\"text-align: right;\">\n",
       "      <th></th>\n",
       "      <th>0</th>\n",
       "      <th>1</th>\n",
       "      <th>2</th>\n",
       "      <th>3</th>\n",
       "      <th>4</th>\n",
       "      <th>5</th>\n",
       "      <th>6</th>\n",
       "      <th>7</th>\n",
       "      <th>8</th>\n",
       "      <th>9</th>\n",
       "      <th>10</th>\n",
       "      <th>11</th>\n",
       "      <th>12</th>\n",
       "      <th>13</th>\n",
       "      <th>14</th>\n",
       "    </tr>\n",
       "  </thead>\n",
       "  <tbody>\n",
       "    <tr>\n",
       "      <th>32556</th>\n",
       "      <td>27</td>\n",
       "      <td>Private</td>\n",
       "      <td>257302</td>\n",
       "      <td>Assoc-acdm</td>\n",
       "      <td>12</td>\n",
       "      <td>Married-civ-spouse</td>\n",
       "      <td>Tech-support</td>\n",
       "      <td>Wife</td>\n",
       "      <td>White</td>\n",
       "      <td>Female</td>\n",
       "      <td>0</td>\n",
       "      <td>0</td>\n",
       "      <td>38</td>\n",
       "      <td>United-States</td>\n",
       "      <td>&lt;=50K</td>\n",
       "    </tr>\n",
       "    <tr>\n",
       "      <th>32557</th>\n",
       "      <td>40</td>\n",
       "      <td>Private</td>\n",
       "      <td>154374</td>\n",
       "      <td>HS-grad</td>\n",
       "      <td>9</td>\n",
       "      <td>Married-civ-spouse</td>\n",
       "      <td>Machine-op-inspct</td>\n",
       "      <td>Husband</td>\n",
       "      <td>White</td>\n",
       "      <td>Male</td>\n",
       "      <td>0</td>\n",
       "      <td>0</td>\n",
       "      <td>40</td>\n",
       "      <td>United-States</td>\n",
       "      <td>&gt;50K</td>\n",
       "    </tr>\n",
       "    <tr>\n",
       "      <th>32558</th>\n",
       "      <td>58</td>\n",
       "      <td>Private</td>\n",
       "      <td>151910</td>\n",
       "      <td>HS-grad</td>\n",
       "      <td>9</td>\n",
       "      <td>Widowed</td>\n",
       "      <td>Adm-clerical</td>\n",
       "      <td>Unmarried</td>\n",
       "      <td>White</td>\n",
       "      <td>Female</td>\n",
       "      <td>0</td>\n",
       "      <td>0</td>\n",
       "      <td>40</td>\n",
       "      <td>United-States</td>\n",
       "      <td>&lt;=50K</td>\n",
       "    </tr>\n",
       "    <tr>\n",
       "      <th>32559</th>\n",
       "      <td>22</td>\n",
       "      <td>Private</td>\n",
       "      <td>201490</td>\n",
       "      <td>HS-grad</td>\n",
       "      <td>9</td>\n",
       "      <td>Never-married</td>\n",
       "      <td>Adm-clerical</td>\n",
       "      <td>Own-child</td>\n",
       "      <td>White</td>\n",
       "      <td>Male</td>\n",
       "      <td>0</td>\n",
       "      <td>0</td>\n",
       "      <td>20</td>\n",
       "      <td>United-States</td>\n",
       "      <td>&lt;=50K</td>\n",
       "    </tr>\n",
       "    <tr>\n",
       "      <th>32560</th>\n",
       "      <td>52</td>\n",
       "      <td>Self-emp-inc</td>\n",
       "      <td>287927</td>\n",
       "      <td>HS-grad</td>\n",
       "      <td>9</td>\n",
       "      <td>Married-civ-spouse</td>\n",
       "      <td>Exec-managerial</td>\n",
       "      <td>Wife</td>\n",
       "      <td>White</td>\n",
       "      <td>Female</td>\n",
       "      <td>15024</td>\n",
       "      <td>0</td>\n",
       "      <td>40</td>\n",
       "      <td>United-States</td>\n",
       "      <td>&gt;50K</td>\n",
       "    </tr>\n",
       "  </tbody>\n",
       "</table>\n",
       "</div>"
      ],
      "text/plain": [
       "       0              1       2            3   4                    5   \\\n",
       "32556  27        Private  257302   Assoc-acdm  12   Married-civ-spouse   \n",
       "32557  40        Private  154374      HS-grad   9   Married-civ-spouse   \n",
       "32558  58        Private  151910      HS-grad   9              Widowed   \n",
       "32559  22        Private  201490      HS-grad   9        Never-married   \n",
       "32560  52   Self-emp-inc  287927      HS-grad   9   Married-civ-spouse   \n",
       "\n",
       "                       6           7       8        9      10  11  12  \\\n",
       "32556        Tech-support        Wife   White   Female      0   0  38   \n",
       "32557   Machine-op-inspct     Husband   White     Male      0   0  40   \n",
       "32558        Adm-clerical   Unmarried   White   Female      0   0  40   \n",
       "32559        Adm-clerical   Own-child   White     Male      0   0  20   \n",
       "32560     Exec-managerial        Wife   White   Female  15024   0  40   \n",
       "\n",
       "                   13      14  \n",
       "32556   United-States   <=50K  \n",
       "32557   United-States    >50K  \n",
       "32558   United-States   <=50K  \n",
       "32559   United-States   <=50K  \n",
       "32560   United-States    >50K  "
      ]
     },
     "execution_count": 12,
     "metadata": {},
     "output_type": "execute_result"
    },
    {
     "data": {
      "text/plain": [
       "(32561, 15)"
      ]
     },
     "execution_count": 12,
     "metadata": {},
     "output_type": "execute_result"
    }
   ],
   "source": [
    "import pandas as pd\n",
    "census_df = pd.read_csv(filepath_or_buffer='../dat/adult.csv', header = None)\n",
    "census_df.head()\n",
    "census_df.tail()\n",
    "census_df.shape"
   ]
  },
  {
   "cell_type": "markdown",
   "id": "d99563f1",
   "metadata": {},
   "source": [
    "### Uninstall packages"
   ]
  },
  {
   "cell_type": "code",
   "execution_count": 13,
   "id": "cd13cba4",
   "metadata": {},
   "outputs": [
    {
     "name": "stdout",
     "output_type": "stream",
     "text": [
      "Found existing installation: numpy 1.23.5\n",
      "Uninstalling numpy-1.23.5:\n",
      "  Successfully uninstalled numpy-1.23.5\n",
      "Found existing installation: pandas 1.5.2\n",
      "Uninstalling pandas-1.5.2:\n",
      "  Successfully uninstalled pandas-1.5.2\n",
      "Note: you may need to restart the kernel to use updated packages.\n"
     ]
    }
   ],
   "source": [
    "# Uninstall a package\n",
    "%pip uninstall numpy pandas --yes"
   ]
  },
  {
   "cell_type": "code",
   "execution_count": 14,
   "id": "3dba9166",
   "metadata": {},
   "outputs": [
    {
     "name": "stdout",
     "output_type": "stream",
     "text": [
      "Files removed: 182\n",
      "Note: you may need to restart the kernel to use updated packages.\n"
     ]
    }
   ],
   "source": [
    "%pip cache purge"
   ]
  }
 ],
 "metadata": {
  "kernelspec": {
   "display_name": "Python 3.8.15 ('mlops-course')",
   "language": "python",
   "name": "python3"
  },
  "language_info": {
   "codemirror_mode": {
    "name": "ipython",
    "version": 3
   },
   "file_extension": ".py",
   "mimetype": "text/x-python",
   "name": "python",
   "nbconvert_exporter": "python",
   "pygments_lexer": "ipython3",
   "version": "3.8.15"
  },
  "toc": {
   "base_numbering": 1,
   "nav_menu": {},
   "number_sections": true,
   "sideBar": true,
   "skip_h1_title": false,
   "title_cell": "Table of Contents",
   "title_sidebar": "Contents",
   "toc_cell": false,
   "toc_position": {},
   "toc_section_display": true,
   "toc_window_display": true
  },
  "vscode": {
   "interpreter": {
    "hash": "92388f3fdab35181838b8d01176d6e451e5e960b89b4e0a8a149ad7abf7b7db6"
   }
  }
 },
 "nbformat": 4,
 "nbformat_minor": 5
}
